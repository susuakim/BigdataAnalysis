{
 "cells": [
  {
   "cell_type": "code",
   "execution_count": 91,
   "id": "37087f22",
   "metadata": {},
   "outputs": [
    {
     "name": "stdout",
     "output_type": "stream",
     "text": [
      "Requirement already satisfied: boto3 in c:\\users\\smhrd\\anaconda3\\lib\\site-packages (1.21.32)\n",
      "Requirement already satisfied: s3transfer<0.6.0,>=0.5.0 in c:\\users\\smhrd\\anaconda3\\lib\\site-packages (from boto3) (0.5.0)\n",
      "Requirement already satisfied: jmespath<2.0.0,>=0.7.1 in c:\\users\\smhrd\\anaconda3\\lib\\site-packages (from boto3) (0.10.0)\n",
      "Requirement already satisfied: botocore<1.25.0,>=1.24.32 in c:\\users\\smhrd\\anaconda3\\lib\\site-packages (from boto3) (1.24.32)\n",
      "Requirement already satisfied: urllib3<1.27,>=1.25.4 in c:\\users\\smhrd\\anaconda3\\lib\\site-packages (from botocore<1.25.0,>=1.24.32->boto3) (1.26.9)\n",
      "Requirement already satisfied: python-dateutil<3.0.0,>=2.1 in c:\\users\\smhrd\\anaconda3\\lib\\site-packages (from botocore<1.25.0,>=1.24.32->boto3) (2.8.2)\n",
      "Requirement already satisfied: six>=1.5 in c:\\users\\smhrd\\anaconda3\\lib\\site-packages (from python-dateutil<3.0.0,>=2.1->botocore<1.25.0,>=1.24.32->boto3) (1.16.0)\n"
     ]
    },
    {
     "name": "stderr",
     "output_type": "stream",
     "text": [
      "WARNING: Ignoring invalid distribution -atplotlib (c:\\users\\smhrd\\anaconda3\\lib\\site-packages)\n",
      "WARNING: Ignoring invalid distribution -atplotlib (c:\\users\\smhrd\\anaconda3\\lib\\site-packages)\n",
      "WARNING: Ignoring invalid distribution -atplotlib (c:\\users\\smhrd\\anaconda3\\lib\\site-packages)\n",
      "WARNING: Ignoring invalid distribution -atplotlib (c:\\users\\smhrd\\anaconda3\\lib\\site-packages)\n",
      "WARNING: Ignoring invalid distribution -atplotlib (c:\\users\\smhrd\\anaconda3\\lib\\site-packages)\n",
      "WARNING: Ignoring invalid distribution -atplotlib (c:\\users\\smhrd\\anaconda3\\lib\\site-packages)\n"
     ]
    }
   ],
   "source": [
    "!pip3 install boto3"
   ]
  },
  {
   "cell_type": "markdown",
   "id": "62d13003",
   "metadata": {},
   "source": [
    "### 닮은 연예인 찾기"
   ]
  },
  {
   "cell_type": "code",
   "execution_count": 92,
   "id": "41bd3953",
   "metadata": {},
   "outputs": [
    {
     "name": "stdout",
     "output_type": "stream",
     "text": [
      "Detected faces for img.jfif\n",
      "닮은연예인은 RISABAE 입니다\n",
      "Celebrities detected: 1\n"
     ]
    }
   ],
   "source": [
    "#Copyright 2018 Amazon.com, Inc. or its affiliates. All Rights Reserved.\n",
    "#PDX-License-Identifier: MIT-0 (For details, see https://github.com/awsdocs/amazon-rekognition-developer-guide/blob/master/LICENSE-SAMPLECODE.)\n",
    "\n",
    "import boto3\n",
    "import json\n",
    "import random\n",
    "\n",
    "def recognize_celebrities(photo):\n",
    "    celeb = ['최우식', '존박', '아이유', '공유', '수지']\n",
    "    client=boto3.client('rekognition')\n",
    "\n",
    "    with open(photo, 'rb') as image:\n",
    "        response = client.recognize_celebrities(Image={'Bytes': image.read()})\n",
    "\n",
    "    print('Detected faces for ' + photo)\n",
    "    \n",
    "    if len(response['CelebrityFaces']) >= 1:\n",
    "        for celebrity in response['CelebrityFaces']:\n",
    "            print('닮은연예인은 ' + celebrity['Name'] + ' 입니다')\n",
    "    else:\n",
    "        result =celeb[random.randrange(5)]\n",
    "        print('닮은연예인은 ' + result + ' 입니다')\n",
    "        #print ('Name: ' + celebrity['Name'])\n",
    "        #print ('Id: ' + celebrity['Id'])\n",
    "        #print ('KnownGender: ' + celebrity['KnownGender'])\n",
    "        #print ('Smile: ' + celebrity['Smile'])\n",
    "        #print ('Position:')\n",
    "        #print ('   Left: ' + '{:.2f}'.format(celebrity['Face']['BoundingBox']['Height']))\n",
    "        #print ('   Top: ' + '{:.2f}'.format(celebrity['Face']['BoundingBox']['Top']))\n",
    "        #print ('Info')\n",
    "        #for url in celebrity['Urls']:\n",
    "        #    print ('   ' + url)\n",
    "        #print\n",
    "    return len(response['CelebrityFaces'])\n",
    "\n",
    "def main():\n",
    "    photo='img.jfif'\n",
    "\n",
    "    celeb_count=recognize_celebrities(photo)\n",
    "    print(\"Celebrities detected: \" + str(celeb_count))\n",
    "\n",
    "if __name__ == \"__main__\":\n",
    "    main()"
   ]
  },
  {
   "cell_type": "markdown",
   "id": "caf7a3a3",
   "metadata": {},
   "source": [
    "### 랜덤 사용하기"
   ]
  },
  {
   "cell_type": "code",
   "execution_count": 93,
   "id": "dea6da13",
   "metadata": {},
   "outputs": [
    {
     "name": "stdout",
     "output_type": "stream",
     "text": [
      "이상익\n"
     ]
    }
   ],
   "source": [
    "# random 사용법\n",
    "import random\n",
    "수현쌤반 = ['김중걸', '최지훈', '이상익', '김다송', '김수아']\n",
    "# 1. result = 수현쌤반[random.randint(0,4)]\n",
    "# 2. result = 수현쌤반[random.randrange(5)]\n",
    "# 3. result = random.choice(수현쌤반)\n",
    "print(result)"
   ]
  },
  {
   "cell_type": "code",
   "execution_count": 94,
   "id": "ea70f3b8",
   "metadata": {},
   "outputs": [
    {
     "ename": "InvalidParameterException",
     "evalue": "An error occurred (InvalidParameterException) when calling the CompareFaces operation: Request has invalid parameters",
     "output_type": "error",
     "traceback": [
      "\u001b[1;31m---------------------------------------------------------------------------\u001b[0m",
      "\u001b[1;31mInvalidParameterException\u001b[0m                 Traceback (most recent call last)",
      "Input \u001b[1;32mIn [94]\u001b[0m, in \u001b[0;36m<cell line: 33>\u001b[1;34m()\u001b[0m\n\u001b[0;32m     30\u001b[0m     \u001b[38;5;28mprint\u001b[39m(\u001b[38;5;124m\"\u001b[39m\u001b[38;5;124mFace matches: \u001b[39m\u001b[38;5;124m\"\u001b[39m \u001b[38;5;241m+\u001b[39m \u001b[38;5;28mstr\u001b[39m(face_matches))\n\u001b[0;32m     33\u001b[0m \u001b[38;5;28;01mif\u001b[39;00m \u001b[38;5;18m__name__\u001b[39m \u001b[38;5;241m==\u001b[39m \u001b[38;5;124m\"\u001b[39m\u001b[38;5;124m__main__\u001b[39m\u001b[38;5;124m\"\u001b[39m:\n\u001b[1;32m---> 34\u001b[0m     \u001b[43mmain\u001b[49m\u001b[43m(\u001b[49m\u001b[43m)\u001b[49m\n",
      "Input \u001b[1;32mIn [94]\u001b[0m, in \u001b[0;36mmain\u001b[1;34m()\u001b[0m\n\u001b[0;32m     27\u001b[0m source_file\u001b[38;5;241m=\u001b[39m\u001b[38;5;124m'\u001b[39m\u001b[38;5;124mimg.jfif\u001b[39m\u001b[38;5;124m'\u001b[39m\n\u001b[0;32m     28\u001b[0m target_file\u001b[38;5;241m=\u001b[39m\u001b[38;5;124m'\u001b[39m\u001b[38;5;124mcat.jfif\u001b[39m\u001b[38;5;124m'\u001b[39m\n\u001b[1;32m---> 29\u001b[0m face_matches\u001b[38;5;241m=\u001b[39m\u001b[43mcompare_faces\u001b[49m\u001b[43m(\u001b[49m\u001b[43msource_file\u001b[49m\u001b[43m,\u001b[49m\u001b[43m \u001b[49m\u001b[43mtarget_file\u001b[49m\u001b[43m)\u001b[49m\n\u001b[0;32m     30\u001b[0m \u001b[38;5;28mprint\u001b[39m(\u001b[38;5;124m\"\u001b[39m\u001b[38;5;124mFace matches: \u001b[39m\u001b[38;5;124m\"\u001b[39m \u001b[38;5;241m+\u001b[39m \u001b[38;5;28mstr\u001b[39m(face_matches))\n",
      "Input \u001b[1;32mIn [94]\u001b[0m, in \u001b[0;36mcompare_faces\u001b[1;34m(sourceFile, targetFile)\u001b[0m\n\u001b[0;32m     10\u001b[0m imageSource\u001b[38;5;241m=\u001b[39m\u001b[38;5;28mopen\u001b[39m(sourceFile,\u001b[38;5;124m'\u001b[39m\u001b[38;5;124mrb\u001b[39m\u001b[38;5;124m'\u001b[39m)\n\u001b[0;32m     11\u001b[0m imageTarget\u001b[38;5;241m=\u001b[39m\u001b[38;5;28mopen\u001b[39m(targetFile,\u001b[38;5;124m'\u001b[39m\u001b[38;5;124mrb\u001b[39m\u001b[38;5;124m'\u001b[39m)\n\u001b[1;32m---> 13\u001b[0m response\u001b[38;5;241m=\u001b[39m\u001b[43mclient\u001b[49m\u001b[38;5;241;43m.\u001b[39;49m\u001b[43mcompare_faces\u001b[49m\u001b[43m(\u001b[49m\u001b[43mSimilarityThreshold\u001b[49m\u001b[38;5;241;43m=\u001b[39;49m\u001b[38;5;241;43m0\u001b[39;49m\u001b[43m,\u001b[49m\n\u001b[0;32m     14\u001b[0m \u001b[43m                              \u001b[49m\u001b[43mSourceImage\u001b[49m\u001b[38;5;241;43m=\u001b[39;49m\u001b[43m{\u001b[49m\u001b[38;5;124;43m'\u001b[39;49m\u001b[38;5;124;43mBytes\u001b[39;49m\u001b[38;5;124;43m'\u001b[39;49m\u001b[43m:\u001b[49m\u001b[43m \u001b[49m\u001b[43mimageSource\u001b[49m\u001b[38;5;241;43m.\u001b[39;49m\u001b[43mread\u001b[49m\u001b[43m(\u001b[49m\u001b[43m)\u001b[49m\u001b[43m}\u001b[49m\u001b[43m,\u001b[49m\n\u001b[0;32m     15\u001b[0m \u001b[43m                              \u001b[49m\u001b[43mTargetImage\u001b[49m\u001b[38;5;241;43m=\u001b[39;49m\u001b[43m{\u001b[49m\u001b[38;5;124;43m'\u001b[39;49m\u001b[38;5;124;43mBytes\u001b[39;49m\u001b[38;5;124;43m'\u001b[39;49m\u001b[43m:\u001b[49m\u001b[43m \u001b[49m\u001b[43mimageTarget\u001b[49m\u001b[38;5;241;43m.\u001b[39;49m\u001b[43mread\u001b[49m\u001b[43m(\u001b[49m\u001b[43m)\u001b[49m\u001b[43m}\u001b[49m\u001b[43m)\u001b[49m\n\u001b[0;32m     17\u001b[0m \u001b[38;5;28;01mfor\u001b[39;00m faceMatch \u001b[38;5;129;01min\u001b[39;00m response[\u001b[38;5;124m'\u001b[39m\u001b[38;5;124mFaceMatches\u001b[39m\u001b[38;5;124m'\u001b[39m]:\n\u001b[0;32m     18\u001b[0m     position \u001b[38;5;241m=\u001b[39m faceMatch[\u001b[38;5;124m'\u001b[39m\u001b[38;5;124mFace\u001b[39m\u001b[38;5;124m'\u001b[39m][\u001b[38;5;124m'\u001b[39m\u001b[38;5;124mBoundingBox\u001b[39m\u001b[38;5;124m'\u001b[39m]\n",
      "File \u001b[1;32m~\\anaconda3\\lib\\site-packages\\botocore\\client.py:401\u001b[0m, in \u001b[0;36mClientCreator._create_api_method.<locals>._api_call\u001b[1;34m(self, *args, **kwargs)\u001b[0m\n\u001b[0;32m    398\u001b[0m     \u001b[38;5;28;01mraise\u001b[39;00m \u001b[38;5;167;01mTypeError\u001b[39;00m(\n\u001b[0;32m    399\u001b[0m         \u001b[38;5;124m\"\u001b[39m\u001b[38;5;132;01m%s\u001b[39;00m\u001b[38;5;124m() only accepts keyword arguments.\u001b[39m\u001b[38;5;124m\"\u001b[39m \u001b[38;5;241m%\u001b[39m py_operation_name)\n\u001b[0;32m    400\u001b[0m \u001b[38;5;66;03m# The \"self\" in this scope is referring to the BaseClient.\u001b[39;00m\n\u001b[1;32m--> 401\u001b[0m \u001b[38;5;28;01mreturn\u001b[39;00m \u001b[38;5;28;43mself\u001b[39;49m\u001b[38;5;241;43m.\u001b[39;49m\u001b[43m_make_api_call\u001b[49m\u001b[43m(\u001b[49m\u001b[43moperation_name\u001b[49m\u001b[43m,\u001b[49m\u001b[43m \u001b[49m\u001b[43mkwargs\u001b[49m\u001b[43m)\u001b[49m\n",
      "File \u001b[1;32m~\\anaconda3\\lib\\site-packages\\botocore\\client.py:731\u001b[0m, in \u001b[0;36mBaseClient._make_api_call\u001b[1;34m(self, operation_name, api_params)\u001b[0m\n\u001b[0;32m    729\u001b[0m     error_code \u001b[38;5;241m=\u001b[39m parsed_response\u001b[38;5;241m.\u001b[39mget(\u001b[38;5;124m\"\u001b[39m\u001b[38;5;124mError\u001b[39m\u001b[38;5;124m\"\u001b[39m, {})\u001b[38;5;241m.\u001b[39mget(\u001b[38;5;124m\"\u001b[39m\u001b[38;5;124mCode\u001b[39m\u001b[38;5;124m\"\u001b[39m)\n\u001b[0;32m    730\u001b[0m     error_class \u001b[38;5;241m=\u001b[39m \u001b[38;5;28mself\u001b[39m\u001b[38;5;241m.\u001b[39mexceptions\u001b[38;5;241m.\u001b[39mfrom_code(error_code)\n\u001b[1;32m--> 731\u001b[0m     \u001b[38;5;28;01mraise\u001b[39;00m error_class(parsed_response, operation_name)\n\u001b[0;32m    732\u001b[0m \u001b[38;5;28;01melse\u001b[39;00m:\n\u001b[0;32m    733\u001b[0m     \u001b[38;5;28;01mreturn\u001b[39;00m parsed_response\n",
      "\u001b[1;31mInvalidParameterException\u001b[0m: An error occurred (InvalidParameterException) when calling the CompareFaces operation: Request has invalid parameters"
     ]
    }
   ],
   "source": [
    "#Copyright 2018 Amazon.com, Inc. or its affiliates. All Rights Reserved.\n",
    "#PDX-License-Identifier: MIT-0 (For details, see https://github.com/awsdocs/amazon-rekognition-developer-guide/blob/master/LICENSE-SAMPLECODE.)\n",
    "\n",
    "import boto3\n",
    "\n",
    "def compare_faces(sourceFile, targetFile):\n",
    "\n",
    "    client=boto3.client('rekognition')\n",
    "   \n",
    "    imageSource=open(sourceFile,'rb')\n",
    "    imageTarget=open(targetFile,'rb')\n",
    "\n",
    "    response=client.compare_faces(SimilarityThreshold=0,\n",
    "                                  SourceImage={'Bytes': imageSource.read()},\n",
    "                                  TargetImage={'Bytes': imageTarget.read()})\n",
    "    \n",
    "    for faceMatch in response['FaceMatches']:\n",
    "        position = faceMatch['Face']['BoundingBox']\n",
    "        similarity = str(faceMatch['Similarity'])\n",
    "        print('일치도는 '+ similarity + ' 입니다')\n",
    "\n",
    "    imageSource.close()\n",
    "    imageTarget.close()     \n",
    "    return len(response['FaceMatches'])          \n",
    "\n",
    "def main():\n",
    "    source_file='img.jfif'\n",
    "    target_file='cat.jfif'\n",
    "    face_matches=compare_faces(source_file, target_file)\n",
    "    print(\"Face matches: \" + str(face_matches))\n",
    "\n",
    "\n",
    "if __name__ == \"__main__\":\n",
    "    main()"
   ]
  },
  {
   "cell_type": "code",
   "execution_count": 100,
   "id": "9ec5036b",
   "metadata": {},
   "outputs": [
    {
     "name": "stdout",
     "output_type": "stream",
     "text": [
      "Detected faces for img.jfif\n",
      "Faces detected: (16.0, 'Female', 'HAPPY')\n"
     ]
    }
   ],
   "source": [
    "#Copyright 2018 Amazon.com, Inc. or its affiliates. All Rights Reserved.\n",
    "#PDX-License-Identifier: MIT-0 (For details, see https://github.com/awsdocs/amazon-rekognition-developer-guide/blob/master/LICENSE-SAMPLECODE.)\n",
    "import boto3\n",
    "import json\n",
    "def detect_faces(photo):\n",
    "    client=boto3.client('rekognition')\n",
    "    with open(photo, 'rb') as image:\n",
    "        response = client.detect_faces(Image={'Bytes': image.read()},Attributes=['ALL'])\n",
    "    #response = client.detect_faces(Image={'S3Object':{'Bucket':bucket,'Name':photo}},Attributes=['ALL'])\n",
    "    #print(response)\n",
    "    print('Detected faces for ' + photo)\n",
    "    for faceDetail in response['FaceDetails']:\n",
    "        age=(faceDetail['AgeRange']['Low'] + faceDetail['AgeRange']['High'])/2\n",
    "        gender = faceDetail['Gender']['Value']\n",
    "        emotion = faceDetail['Emotions'][0]['Type']\n",
    "        result = age,gender,emotion\n",
    "        #print(type(result))\n",
    "#         age = faceDetail['AgeRange']['Low'] + faceDetail['AgeRange']['High']\n",
    "#         print(\"나이는 %d세입니다.\"%(age/2))\n",
    "#         print(str(faceDetail['Gender']['Value']))\n",
    "#         if faceDetail['Gender']['Value'] == \"Female\":\n",
    "#             print('성별은 여자입니다.')\n",
    "#         elif faceDetail['Gender']['Value'] == \"Male\":\n",
    "#             print('성별은 남자입니다.')\n",
    "#         print('대표감정은 {}입니다.'.format(faceDetail['Emotions'][0]['Type']))\n",
    "    return result\n",
    "def main():\n",
    "    photo='img.jfif'\n",
    "    face_count=detect_faces(photo)\n",
    "    print(\"Faces detected: \" + str(face_count))\n",
    "if __name__ == \"__main__\":\n",
    "    main()"
   ]
  },
  {
   "cell_type": "code",
   "execution_count": 99,
   "id": "6bdfe44d",
   "metadata": {},
   "outputs": [
    {
     "name": "stdout",
     "output_type": "stream",
     "text": [
      "일치도는100.0% 입니다.\n",
      "Face matches: 1\n"
     ]
    }
   ],
   "source": [
    "#Copyright 2018 Amazon.com, Inc. or its affiliates. All Rights Reserved.\n",
    "#PDX-License-Identifier: MIT-0 (For details, see https://github.com/awsdocs/amazon-rekognition-developer-guide/blob/master/LICENSE-SAMPLECODE.)\n",
    "import boto3\n",
    "def compare_faces(sourceFile, targetFile):\n",
    "    client=boto3.client('rekognition')\n",
    "    imageSource=open(sourceFile,'rb')\n",
    "    imageTarget=open(targetFile,'rb')\n",
    "    response=client.compare_faces(SimilarityThreshold=0,\n",
    "                                  SourceImage={'Bytes': imageSource.read()},\n",
    "                                  TargetImage={'Bytes': imageTarget.read()})\n",
    "    for faceMatch in response['FaceMatches']:\n",
    "        position = faceMatch['Face']['BoundingBox']\n",
    "        similarity = str(faceMatch['Similarity'])\n",
    "        print('일치도는' + similarity + '% 입니다.')\n",
    "    imageSource.close()\n",
    "    imageTarget.close()\n",
    "    return len(response['FaceMatches'])\n",
    "def main():\n",
    "    source_file='img.jfif'\n",
    "    target_file='img.jfif'\n",
    "    face_matches=compare_faces(source_file, target_file)\n",
    "    print(\"Face matches: \" + str(face_matches))\n",
    "if __name__ == \"__main__\":\n",
    "    main()"
   ]
  },
  {
   "cell_type": "code",
   "execution_count": null,
   "id": "dfbb6a3a",
   "metadata": {
    "scrolled": true
   },
   "outputs": [],
   "source": [
    "from flask import Flask , render_template ,request, redirect\n",
    "#from flask import render_template\n",
    "from werkzeug.utils import secure_filename\n",
    "app = Flask(__name__)\n",
    "@app.route('/')\n",
    "def hello():\n",
    "    return render_template('home.html')\n",
    "@app.route('/add', methods=['GET','POST']) #메서드는 겟방식과 포스트방식이있다\n",
    "def add_number():\n",
    "    if request.method == \"GET\":\n",
    "        num1 = request.args['num1'] #num1,num2 데이터타입 문자열\n",
    "        num2 = request.args['num2']\n",
    "        result = int(num1)+int(num2)\n",
    "    else:\n",
    "        num1 = request.form['num1'] #num1,num2 데이터타입 문자열\n",
    "        num2 = request.form['num2']\n",
    "        result = int(num1)+int(num2)\n",
    "    return \"두 수의 합은 {}입니다.\".format(result)\n",
    "@app.route('/move', methods=['GET','POST'])\n",
    "def move():\n",
    "    if request.method == \"GET\":\n",
    "        url = 'https://'+request.args['url']\n",
    "        return redirect(url)\n",
    "    return \"주소없음\"\n",
    "# /detect 경로설정 return값으로는 얼굴분석페이지\n",
    "@app.route('/detect', methods=['GET','POST'])\n",
    "def detect():\n",
    "    if request.method == \"POST\":\n",
    "        f = request.files['file']\n",
    "        f.save(secure_filename(f.filename)) #filename은 내가 분석하고 싶은 사진 1.저장 2.분석\n",
    "        photo = f.filename\n",
    "        age, gender, emotion = detect_faces(photo)\n",
    "        #print(\"얼굴감지됨:{}\".format(face_count))\n",
    "    return '나이:{}세, 성별:{}, 감정:{}'.format(age,gender,emotion)\n",
    "\n",
    "@app.route('/compare', methods=['GET'])\n",
    "def compare():\n",
    "    if request.method == \"POST\":\n",
    "        f = request.files['file']\n",
    "        f.save(secure_filename(f.filename))\n",
    "        source=f.filename\n",
    "        target='img.jfif'\n",
    "        c=compare_faces(source, target)\n",
    "    \n",
    "    return '본인일 확률은{}입니다'.format(c)\n",
    "\n",
    "@app.route('/celeb', methods=['GET', 'POST'])\n",
    "def celeb():\n",
    "    return '닮은연예인은?'\n",
    "\n",
    "if __name__ == \"__main__\":\n",
    "    app.run(host='61.80.80.187',port=5020)"
   ]
  },
  {
   "cell_type": "code",
   "execution_count": null,
   "id": "0e27615c",
   "metadata": {},
   "outputs": [],
   "source": [
    "#Copyright 2018 Amazon.com, Inc. or its affiliates. All Rights Reserved.\n",
    "#PDX-License-Identifier: MIT-0 (For details, see https://github.com/awsdocs/amazon-rekognition-developer-guide/blob/master/LICENSE-SAMPLECODE.)\n",
    "import boto3\n",
    "import json\n",
    "import random\n",
    "def recognize_celebrities(photo):\n",
    "    celeb = ['박은빈','송강','수지','공유','수현쌤']\n",
    "    client=boto3.client('rekognition')\n",
    "    with open(photo, 'rb') as image:\n",
    "        response = client.recognize_celebrities(Image={'Bytes': image.read()})\n",
    "    print('Detected faces for ' + photo)\n",
    "    if len(response['CelebrityFaces']) >= 1:\n",
    "        for celebrity in response['CelebrityFaces']:\n",
    "            name=celebrity['Name']\n",
    "#             print ('닮은연예인은' + celebrity['Name'] + '입니다.')\n",
    "#     else:\n",
    "#         result = celeb[random.randrange(5)]\n",
    "#         print('닮은연예인은 ' + result + ' 입니다.')\n",
    "        #print ('Id: ' + celebrity['Id'])\n",
    "        #print ('KnownGender: ' + celebrity['KnownGender'])\n",
    "        #print ('Smile: ' + celebrity['Smile'])\n",
    "        #print ('Position:')\n",
    "        #print ('   Left: ' + '{:.2f}'.format(celebrity['Face']['BoundingBox']['Height']))\n",
    "        #print ('   Top: ' + '{:.2f}'.format(celebrity['Face']['BoundingBox']['Top']))\n",
    "        #print ('Info')\n",
    "        #for url in celebrity['Urls']:\n",
    "            #print ('   ' + url)\n",
    "        #print\n",
    "    return name\n",
    "def main():\n",
    "    photo='cat.png'\n",
    "    celeb_count=recognize_celebrities(photo)\n",
    "    print(\"Celebrities detected: \" + str(celeb_count))\n",
    "if __name__ == \"__main__\":\n",
    "    main()"
   ]
  },
  {
   "cell_type": "markdown",
   "id": "91114cb7",
   "metadata": {},
   "source": []
  },
  {
   "cell_type": "markdown",
   "id": "b53158f4",
   "metadata": {},
   "source": [
    "### Python으로 s3 버킷에 이미지 업로드"
   ]
  },
  {
   "cell_type": "code",
   "execution_count": 80,
   "id": "86e5b0a2",
   "metadata": {},
   "outputs": [],
   "source": [
    "import boto3\n",
    "s3 = boto3.client('s3')\n",
    "\n",
    "# 업로드할 파일의 이름\n",
    "file_name = 'common.jfif'\n",
    "\n",
    "# 업로드할 s3 버킷의 이름\n",
    "bucket_name = 'mysuabucket'\n",
    "\n",
    "s3.upload_file(file_name, bucket_name, file_name)"
   ]
  }
 ],
 "metadata": {
  "kernelspec": {
   "display_name": "Python 3 (ipykernel)",
   "language": "python",
   "name": "python3"
  },
  "language_info": {
   "codemirror_mode": {
    "name": "ipython",
    "version": 3
   },
   "file_extension": ".py",
   "mimetype": "text/x-python",
   "name": "python",
   "nbconvert_exporter": "python",
   "pygments_lexer": "ipython3",
   "version": "3.9.12"
  }
 },
 "nbformat": 4,
 "nbformat_minor": 5
}
