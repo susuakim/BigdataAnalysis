{
 "cells": [
  {
   "cell_type": "code",
   "execution_count": 2,
   "id": "12cc4d98",
   "metadata": {
    "collapsed": true
   },
   "outputs": [
    {
     "name": "stdout",
     "output_type": "stream",
     "text": [
      "Requirement already satisfied: boto3 in c:\\users\\smhrd\\anaconda3\\lib\\site-packages (1.21.32)\n",
      "Requirement already satisfied: botocore<1.25.0,>=1.24.32 in c:\\users\\smhrd\\anaconda3\\lib\\site-packages (from boto3) (1.24.32)\n",
      "Requirement already satisfied: s3transfer<0.6.0,>=0.5.0 in c:\\users\\smhrd\\anaconda3\\lib\\site-packages (from boto3) (0.5.0)\n",
      "Requirement already satisfied: jmespath<2.0.0,>=0.7.1 in c:\\users\\smhrd\\anaconda3\\lib\\site-packages (from boto3) (0.10.0)\n",
      "Requirement already satisfied: python-dateutil<3.0.0,>=2.1 in c:\\users\\smhrd\\anaconda3\\lib\\site-packages (from botocore<1.25.0,>=1.24.32->boto3) (2.8.2)\n",
      "Requirement already satisfied: urllib3<1.27,>=1.25.4 in c:\\users\\smhrd\\anaconda3\\lib\\site-packages (from botocore<1.25.0,>=1.24.32->boto3) (1.26.9)\n",
      "Requirement already satisfied: six>=1.5 in c:\\users\\smhrd\\anaconda3\\lib\\site-packages (from python-dateutil<3.0.0,>=2.1->botocore<1.25.0,>=1.24.32->boto3) (1.16.0)\n"
     ]
    },
    {
     "name": "stderr",
     "output_type": "stream",
     "text": [
      "WARNING: Ignoring invalid distribution -atplotlib (c:\\users\\smhrd\\anaconda3\\lib\\site-packages)\n",
      "WARNING: Ignoring invalid distribution -atplotlib (c:\\users\\smhrd\\anaconda3\\lib\\site-packages)\n",
      "WARNING: Ignoring invalid distribution -atplotlib (c:\\users\\smhrd\\anaconda3\\lib\\site-packages)\n",
      "WARNING: Ignoring invalid distribution -atplotlib (c:\\users\\smhrd\\anaconda3\\lib\\site-packages)\n",
      "WARNING: Ignoring invalid distribution -atplotlib (c:\\users\\smhrd\\anaconda3\\lib\\site-packages)\n",
      "WARNING: Ignoring invalid distribution -atplotlib (c:\\users\\smhrd\\anaconda3\\lib\\site-packages)\n"
     ]
    }
   ],
   "source": [
    "!pip3 install boto3"
   ]
  },
  {
   "cell_type": "code",
   "execution_count": 4,
   "id": "2796bd4d",
   "metadata": {},
   "outputs": [
    {
     "name": "stdout",
     "output_type": "stream",
     "text": [
      "{'Labels': [{'Name': 'Canine', 'Confidence': 96.26991271972656, 'Instances': [], 'Parents': [{'Name': 'Mammal'}, {'Name': 'Animal'}]}, {'Name': 'Animal', 'Confidence': 96.26991271972656, 'Instances': [], 'Parents': []}, {'Name': 'Mammal', 'Confidence': 96.26991271972656, 'Instances': [], 'Parents': [{'Name': 'Animal'}]}, {'Name': 'Dog', 'Confidence': 95.90918731689453, 'Instances': [{'BoundingBox': {'Width': 0.8396686315536499, 'Height': 0.9493516683578491, 'Left': 0.10734402388334274, 'Top': 0.047358863055706024}, 'Confidence': 78.89649200439453}], 'Parents': [{'Name': 'Pet'}, {'Name': 'Canine'}, {'Name': 'Animal'}, {'Name': 'Mammal'}]}, {'Name': 'Pet', 'Confidence': 95.90918731689453, 'Instances': [], 'Parents': [{'Name': 'Animal'}]}, {'Name': 'Eskimo Dog', 'Confidence': 92.13533020019531, 'Instances': [], 'Parents': [{'Name': 'Dog'}, {'Name': 'Pet'}, {'Name': 'Canine'}, {'Name': 'Animal'}, {'Name': 'Mammal'}]}], 'LabelModelVersion': '2.0', 'ResponseMetadata': {'RequestId': 'd7b29b0c-3303-46ff-9633-7292fe4e1ae3', 'HTTPStatusCode': 200, 'HTTPHeaders': {'x-amzn-requestid': 'd7b29b0c-3303-46ff-9633-7292fe4e1ae3', 'content-type': 'application/x-amz-json-1.1', 'content-length': '875', 'date': 'Thu, 11 Aug 2022 00:47:20 GMT'}, 'RetryAttempts': 0}}\n",
      "Detected labels in common.jfif\n",
      "Canine : 96.26991271972656\n",
      "Animal : 96.26991271972656\n",
      "Mammal : 96.26991271972656\n",
      "Dog : 95.90918731689453\n",
      "Pet : 95.90918731689453\n",
      "Eskimo Dog : 92.13533020019531\n",
      "Labels detected: 6\n"
     ]
    }
   ],
   "source": [
    "#Copyright 2018 Amazon.com, Inc. or its affiliates. All Rights Reserved.\n",
    "#PDX-License-Identifier: MIT-0 (For details, see https://github.com/awsdocs/amazon-rekognition-developer-guide/blob/master/LICENSE-SAMPLECODE.)\n",
    "import boto3\n",
    "def detect_labels_local_file(photo):\n",
    "    client=boto3.client('rekognition')\n",
    "    with open(photo, 'rb') as image:\n",
    "        response = client.detect_labels(Image={'Bytes': image.read()})\n",
    "        print(response)\n",
    "    print('Detected labels in ' + photo)\n",
    "    for label in response['Labels']:\n",
    "        print (label['Name'] + ' : ' + str(label['Confidence']))\n",
    "    return len(response['Labels'])\n",
    "def main():\n",
    "    photo='common.jfif'\n",
    "    label_count=detect_labels_local_file(photo)\n",
    "    print(\"Labels detected: \" + str(label_count))\n",
    "if __name__ == \"__main__\":\n",
    "    main()"
   ]
  },
  {
   "cell_type": "code",
   "execution_count": 22,
   "id": "fd9eda45",
   "metadata": {},
   "outputs": [
    {
     "name": "stdout",
     "output_type": "stream",
     "text": [
      "Detected labels in common.jfif\n",
      "Canine : 96.26991271972656\n",
      "Animal : 96.26991271972656\n",
      "Mammal : 96.26991271972656\n",
      "Dog : 95.90918731689453\n",
      "Pet : 95.90918731689453\n",
      "Eskimo Dog : 92.13533020019531\n",
      "Canine : 96.26991271972656\n",
      "Animal : 96.26991271972656\n",
      "Mammal : 96.26991271972656\n",
      "Dog : 95.90918731689453\n",
      "Pet : 95.90918731689453\n",
      "Eskimo Dog : 92.13533020019531\n",
      "Canine : 96.26991271972656\n",
      "Animal : 96.26991271972656\n",
      "Mammal : 96.26991271972656\n",
      "Dog : 95.90918731689453\n",
      "Pet : 95.90918731689453\n",
      "Eskimo Dog : 92.13533020019531\n",
      "Canine : 96.26991271972656\n",
      "Animal : 96.26991271972656\n",
      "Mammal : 96.26991271972656\n",
      "Dog : 95.90918731689453\n",
      "Pet : 95.90918731689453\n",
      "Eskimo Dog : 92.13533020019531\n",
      "Canine : 96.26991271972656\n",
      "Animal : 96.26991271972656\n",
      "Mammal : 96.26991271972656\n",
      "Dog : 95.90918731689453\n",
      "Pet : 95.90918731689453\n",
      "Eskimo Dog : 92.13533020019531\n",
      "Canine : 96.26991271972656\n",
      "Animal : 96.26991271972656\n",
      "Mammal : 96.26991271972656\n",
      "Dog : 95.90918731689453\n",
      "Pet : 95.90918731689453\n",
      "Eskimo Dog : 92.13533020019531\n",
      "Labels detected: 6\n"
     ]
    }
   ],
   "source": [
    "#Copyright 2018 Amazon.com, Inc. or its affiliates. All Rights Reserved.\n",
    "#PDX-License-Identifier: MIT-0 (For details, see https://github.com/awsdocs/amazon-rekognition-developer-guide/blob/master/LICENSE-SAMPLECODE.)\n",
    "import boto3\n",
    "\n",
    "def detect_labels_local_file(photo):\n",
    "    \n",
    "    client=boto3.client('rekognition')\n",
    "    \n",
    "    with open(photo, 'rb') as image:\n",
    "        \n",
    "        response = client.detect_labels(Image={'Bytes': image.read()})\n",
    "        \n",
    "    print('Detected labels in ' + photo)\n",
    "    \n",
    "    for label in response['Labels']:\n",
    "        #print (label['Name'] + ' : ' + str(label['Confidence']))\n",
    "        if label['Name'] == \"Canine\":\n",
    "            print(\"Canine일 확률은 {:.2f}% 입니다.\".format(label['Confidence']))\n",
    "    return len(response['Labels'])\n",
    "\n",
    "def main():\n",
    "    \n",
    "    photo='common.jfif'\n",
    "    \n",
    "    label_count=detect_labels_local_file(photo)\n",
    "    \n",
    "    print(\"Labels detected: \" + str(label_count))\n",
    "    \n",
    "if __name__ == \"__main__\":\n",
    "    \n",
    "    main()"
   ]
  },
  {
   "cell_type": "code",
   "execution_count": 24,
   "id": "f8347a7b",
   "metadata": {},
   "outputs": [
    {
     "name": "stdout",
     "output_type": "stream",
     "text": [
      "Detected labels in cat.jfif\n",
      "Canine일 확률은 64.32% 입니다.\n",
      "Labels detected: 12\n"
     ]
    }
   ],
   "source": [
    "#Copyright 2018 Amazon.com, Inc. or its affiliates. All Rights Reserved.\n",
    "#PDX-License-Identifier: MIT-0 (For details, see https://github.com/awsdocs/amazon-rekognition-developer-guide/blob/master/LICENSE-SAMPLECODE.)\n",
    "import boto3\n",
    "\n",
    "def detect_labels_local_file(photo):\n",
    "    \n",
    "    client=boto3.client('rekognition')\n",
    "    \n",
    "    with open(photo, 'rb') as image:\n",
    "        \n",
    "        response = client.detect_labels(Image={'Bytes': image.read()})\n",
    "        \n",
    "    print('Detected labels in ' + photo)\n",
    "    \n",
    "    check = True\n",
    "    for label in response['Labels']:\n",
    "        #print (label['Name'] + ' : ' + str(label['Confidence']))\n",
    "        if label['Name'] == \"Canine\":\n",
    "            print(\"Canine일 확률은 {:.2f}% 입니다.\".format(label['Confidence']))\n",
    "            check = False\n",
    "        \n",
    "    if check == True:\n",
    "        print('Kitten이 아닙니다')\n",
    "            \n",
    "    return len(response['Labels'])\n",
    "\n",
    "def main():\n",
    "    \n",
    "    photo='cat.jfif'\n",
    "    \n",
    "    label_count=detect_labels_local_file(photo)\n",
    "    \n",
    "    print(\"Labels detected: \" + str(label_count))\n",
    "    \n",
    "if __name__ == \"__main__\":\n",
    "    \n",
    "    main()"
   ]
  },
  {
   "cell_type": "code",
   "execution_count": null,
   "id": "7549f16d",
   "metadata": {},
   "outputs": [],
   "source": []
  }
 ],
 "metadata": {
  "kernelspec": {
   "display_name": "Python 3 (ipykernel)",
   "language": "python",
   "name": "python3"
  },
  "language_info": {
   "codemirror_mode": {
    "name": "ipython",
    "version": 3
   },
   "file_extension": ".py",
   "mimetype": "text/x-python",
   "name": "python",
   "nbconvert_exporter": "python",
   "pygments_lexer": "ipython3",
   "version": "3.9.12"
  }
 },
 "nbformat": 4,
 "nbformat_minor": 5
}
