{
 "cells": [
  {
   "cell_type": "code",
   "execution_count": 2,
   "id": "fb32667f",
   "metadata": {
    "collapsed": true
   },
   "outputs": [
    {
     "name": "stdout",
     "output_type": "stream",
     "text": [
      "Requirement already satisfied: flask in c:\\users\\smhrd\\anaconda3\\lib\\site-packages (1.1.2)\n",
      "Requirement already satisfied: itsdangerous>=0.24 in c:\\users\\smhrd\\anaconda3\\lib\\site-packages (from flask) (2.0.1)\n",
      "Requirement already satisfied: click>=5.1 in c:\\users\\smhrd\\anaconda3\\lib\\site-packages (from flask) (8.0.4)\n",
      "Requirement already satisfied: Werkzeug>=0.15 in c:\\users\\smhrd\\anaconda3\\lib\\site-packages (from flask) (2.0.3)\n",
      "Requirement already satisfied: Jinja2>=2.10.1 in c:\\users\\smhrd\\anaconda3\\lib\\site-packages (from flask) (2.11.3)\n",
      "Requirement already satisfied: colorama in c:\\users\\smhrd\\anaconda3\\lib\\site-packages (from click>=5.1->flask) (0.4.4)\n",
      "Requirement already satisfied: MarkupSafe>=0.23 in c:\\users\\smhrd\\anaconda3\\lib\\site-packages (from Jinja2>=2.10.1->flask) (2.0.1)\n"
     ]
    },
    {
     "name": "stderr",
     "output_type": "stream",
     "text": [
      "WARNING: Ignoring invalid distribution -atplotlib (c:\\users\\smhrd\\anaconda3\\lib\\site-packages)\n",
      "WARNING: Ignoring invalid distribution -atplotlib (c:\\users\\smhrd\\anaconda3\\lib\\site-packages)\n",
      "WARNING: Ignoring invalid distribution -atplotlib (c:\\users\\smhrd\\anaconda3\\lib\\site-packages)\n",
      "WARNING: Ignoring invalid distribution -atplotlib (c:\\users\\smhrd\\anaconda3\\lib\\site-packages)\n",
      "WARNING: Ignoring invalid distribution -atplotlib (c:\\users\\smhrd\\anaconda3\\lib\\site-packages)\n",
      "WARNING: Ignoring invalid distribution -atplotlib (c:\\users\\smhrd\\anaconda3\\lib\\site-packages)\n"
     ]
    }
   ],
   "source": [
    "!pip3 install flask"
   ]
  },
  {
   "cell_type": "code",
   "execution_count": null,
   "id": "245767ec",
   "metadata": {},
   "outputs": [
    {
     "name": "stdout",
     "output_type": "stream",
     "text": [
      " * Serving Flask app \"__main__\" (lazy loading)\n",
      " * Environment: production\n",
      "\u001b[31m   WARNING: This is a development server. Do not use it in a production deployment.\u001b[0m\n",
      "\u001b[2m   Use a production WSGI server instead.\u001b[0m\n",
      " * Debug mode: off\n"
     ]
    },
    {
     "name": "stderr",
     "output_type": "stream",
     "text": [
      " * Running on http://61.80.80.187:5020/ (Press CTRL+C to quit)\n",
      "61.80.80.187 - - [12/Aug/2022 12:27:23] \"GET / HTTP/1.1\" 200 -\n",
      "61.80.80.187 - - [12/Aug/2022 12:27:30] \"POST /detect HTTP/1.1\" 200 -\n"
     ]
    },
    {
     "name": "stdout",
     "output_type": "stream",
     "text": [
      "Detected faces for KakaoTalk_20220808_100627639.jpg\n",
      "나이는 16세입니다.\n",
      "Female\n",
      "성별은 여자입니다.\n",
      "대표감정은 CALM입니다.\n",
      "얼굴감지됨:1\n"
     ]
    },
    {
     "name": "stderr",
     "output_type": "stream",
     "text": [
      "31.43.185.54 - - [14/Aug/2022 08:23:47] code 400, message Bad HTTP/0.9 request type ('\\x03\\x00\\x00/*à\\x00\\x00\\x00\\x00\\x00Cookie:')\n",
      "31.43.185.54 - - [14/Aug/2022 08:23:47] \"\u0003\u0000\u0000/*à\u0000\u0000\u0000\u0000\u0000Cookie: mstshash=Administr\" HTTPStatus.BAD_REQUEST -\n"
     ]
    }
   ],
   "source": [
    "from flask import Flask, render_template, request, redirect\n",
    "from werkzeug.utils import secure_filename\n",
    "\n",
    "app = Flask(__name__)\n",
    "\n",
    "@app.route('/')\n",
    "def hello():\n",
    "    return render_template('home.html')\n",
    "\n",
    "@app.route('/add', methods=['GET', 'POST']) #메서드는 get, post 방식이 있다\n",
    "def add_number():\n",
    "    if request.method==\"GET\":\n",
    "        num1 = request.args['num1'] #num1, num2 데이터 타입 문자열\n",
    "        num2 = request.args['num2']\n",
    "        result = int(num1) + int(num2)\n",
    "    else:\n",
    "        num1 = request.form['num1'] #num1, num2 데이터 타입 문자열\n",
    "        num2 = request.form['num2']\n",
    "        result = int(num1) + int(num2)\n",
    "        \n",
    "    return \"두 수의 합은 {}입니다.\".format(result)\n",
    "\n",
    "@app.route('/move', methods=['GET', 'POST'] )\n",
    "def move():\n",
    "    if request.method == \"GET\":\n",
    "        url =\"https://\" + request.args['url']\n",
    "        return redirect(url)\n",
    "    \n",
    "    return \"주소없음\"\n",
    "\n",
    "# /detect 경로설정 return값으로는 얼굴분석페이지\n",
    "@app.route('/detect', methods=['GET', 'POST'])\n",
    "def detect():\n",
    "    if request.method == 'POST':\n",
    "        f = request.files['file']\n",
    "        f.save(secure_filename(f.filename)) #filename은 내가 분석하고 싶은 사진 1.저장, 2.분석\n",
    "        photo = f.filename\n",
    "        face_count = detect_faces(photo)\n",
    "        print('얼굴감지됨:{}'.format(face_count))\n",
    "    \n",
    "    return '얼굴분석페이지'\n",
    "\n",
    "if __name__ == \"__main__\":\n",
    "    app.run(host='61.80.80.187', port='5020')"
   ]
  },
  {
   "cell_type": "code",
   "execution_count": 31,
   "id": "242acc8c",
   "metadata": {},
   "outputs": [
    {
     "name": "stdout",
     "output_type": "stream",
     "text": [
      "Detected faces for img.jfif\n",
      "나이는 16세입니다.\n",
      "Female\n",
      "성별은 여자입니다.\n",
      "대표감정은 HAPPY입니다.\n",
      "Faces detected: 1\n"
     ]
    }
   ],
   "source": [
    "#Copyright 2018 Amazon.com, Inc. or its affiliates. All Rights Reserved.\n",
    "#PDX-License-Identifier: MIT-0 (For details, see https://github.com/awsdocs/amazon-rekognition-developer-guide/blob/master/LICENSE-SAMPLECODE.)\n",
    "import boto3\n",
    "import json\n",
    "def detect_faces(photo):\n",
    "    client=boto3.client('rekognition')\n",
    "    with open(photo, 'rb') as image:\n",
    "        response = client.detect_faces(Image={'Bytes': image.read()},Attributes=['ALL'])\n",
    "    #response = client.detect_faces(Image={'S3Object':{'Bucket':bucket,'Name':photo}},Attributes=['ALL'])\n",
    "    #print(response)\n",
    "    print('Detected faces for ' + photo)\n",
    "    for faceDetail in response['FaceDetails']:\n",
    "        age = faceDetail['AgeRange']['Low'] + faceDetail['AgeRange']['High']\n",
    "        print(\"나이는 %d세입니다.\"%(age/2))\n",
    "        print(str(faceDetail['Gender']['Value']))\n",
    "        if faceDetail['Gender']['Value'] == \"Female\":\n",
    "            print('성별은 여자입니다.')\n",
    "        elif faceDetail['Gender']['Value'] == \"Male\":\n",
    "            print('성별은 남자입니다.')\n",
    "        print('대표감정은 {}입니다.'.format(faceDetail['Emotions'][0]['Type']))\n",
    "#          print('The detected face is between ' + str(faceDetail['AgeRange']['Low'])\n",
    "#                + ' and ' + str(faceDetail['AgeRange']['High']) + ' years old')\n",
    "#         print('Here are the other attributes:')\n",
    "#         print(json.dumps(faceDetail, indent=4, sort_keys=True))\n",
    "\t\t# Access predictions for individual face details and print them\n",
    "#         print(\"Gender: \" + str(faceDetail['Gender']))\n",
    "#         print(\"Smile: \" + str(faceDetail['Smile']))\n",
    "#         print(\"Eyeglasses: \" + str(faceDetail['Eyeglasses']))\n",
    "#         print(\"Emotions: \" + str(faceDetail['Emotions'][0]))\n",
    "    return len(response['FaceDetails'])\n",
    "def main():\n",
    "    photo='img.jfif'\n",
    "    face_count=detect_faces(photo)\n",
    "    print(\"Faces detected: \" + str(face_count))\n",
    "if __name__ == \"__main__\":\n",
    "    main()"
   ]
  },
  {
   "cell_type": "code",
   "execution_count": null,
   "id": "f648a6ad",
   "metadata": {},
   "outputs": [],
   "source": []
  }
 ],
 "metadata": {
  "kernelspec": {
   "display_name": "Python 3 (ipykernel)",
   "language": "python",
   "name": "python3"
  },
  "language_info": {
   "codemirror_mode": {
    "name": "ipython",
    "version": 3
   },
   "file_extension": ".py",
   "mimetype": "text/x-python",
   "name": "python",
   "nbconvert_exporter": "python",
   "pygments_lexer": "ipython3",
   "version": "3.9.12"
  }
 },
 "nbformat": 4,
 "nbformat_minor": 5
}
