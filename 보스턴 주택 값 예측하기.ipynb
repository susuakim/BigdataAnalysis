{
 "cells": [
  {
   "cell_type": "markdown",
   "id": "d88ade98",
   "metadata": {},
   "source": [
    "### 보스턴 주택 값 예측하기(회귀)"
   ]
  },
  {
   "cell_type": "code",
   "execution_count": 80,
   "id": "a44733cf",
   "metadata": {},
   "outputs": [],
   "source": [
    "import numpy as np\n",
    "import pandas as pd\n",
    "import matplotlib.pyplot as plt\n",
    "from sklearn.datasets import load_boston  # 보스턴 주택 값 데이터"
   ]
  },
  {
   "cell_type": "code",
   "execution_count": 81,
   "id": "a36c1397",
   "metadata": {},
   "outputs": [
    {
     "name": "stderr",
     "output_type": "stream",
     "text": [
      "C:\\Users\\smhrd\\anaconda3\\lib\\site-packages\\sklearn\\utils\\deprecation.py:87: FutureWarning: Function load_boston is deprecated; `load_boston` is deprecated in 1.0 and will be removed in 1.2.\n",
      "\n",
      "    The Boston housing prices dataset has an ethical problem. You can refer to\n",
      "    the documentation of this function for further details.\n",
      "\n",
      "    The scikit-learn maintainers therefore strongly discourage the use of this\n",
      "    dataset unless the purpose of the code is to study and educate about\n",
      "    ethical issues in data science and machine learning.\n",
      "\n",
      "    In this special case, you can fetch the dataset from the original\n",
      "    source::\n",
      "\n",
      "        import pandas as pd\n",
      "        import numpy as np\n",
      "\n",
      "\n",
      "        data_url = \"http://lib.stat.cmu.edu/datasets/boston\"\n",
      "        raw_df = pd.read_csv(data_url, sep=\"\\s+\", skiprows=22, header=None)\n",
      "        data = np.hstack([raw_df.values[::2, :], raw_df.values[1::2, :2]])\n",
      "        target = raw_df.values[1::2, 2]\n",
      "\n",
      "    Alternative datasets include the California housing dataset (i.e.\n",
      "    :func:`~sklearn.datasets.fetch_california_housing`) and the Ames housing\n",
      "    dataset. You can load the datasets as follows::\n",
      "\n",
      "        from sklearn.datasets import fetch_california_housing\n",
      "        housing = fetch_california_housing()\n",
      "\n",
      "    for the California housing dataset and::\n",
      "\n",
      "        from sklearn.datasets import fetch_openml\n",
      "        housing = fetch_openml(name=\"house_prices\", as_frame=True)\n",
      "\n",
      "    for the Ames housing dataset.\n",
      "    \n",
      "  warnings.warn(msg, category=FutureWarning)\n"
     ]
    }
   ],
   "source": [
    "boston = load_boston() # 데이터 가져오기"
   ]
  },
  {
   "cell_type": "code",
   "execution_count": 82,
   "id": "22b19e55",
   "metadata": {},
   "outputs": [
    {
     "data": {
      "text/plain": [
       "dict_keys(['data', 'target', 'feature_names', 'DESCR', 'filename', 'data_module'])"
      ]
     },
     "execution_count": 82,
     "metadata": {},
     "output_type": "execute_result"
    }
   ],
   "source": [
    "boston.keys()"
   ]
  },
  {
   "cell_type": "code",
   "execution_count": 83,
   "id": "7a8d3e53",
   "metadata": {},
   "outputs": [
    {
     "data": {
      "text/plain": [
       "array([[6.3200e-03, 1.8000e+01, 2.3100e+00, ..., 1.5300e+01, 3.9690e+02,\n",
       "        4.9800e+00],\n",
       "       [2.7310e-02, 0.0000e+00, 7.0700e+00, ..., 1.7800e+01, 3.9690e+02,\n",
       "        9.1400e+00],\n",
       "       [2.7290e-02, 0.0000e+00, 7.0700e+00, ..., 1.7800e+01, 3.9283e+02,\n",
       "        4.0300e+00],\n",
       "       ...,\n",
       "       [6.0760e-02, 0.0000e+00, 1.1930e+01, ..., 2.1000e+01, 3.9690e+02,\n",
       "        5.6400e+00],\n",
       "       [1.0959e-01, 0.0000e+00, 1.1930e+01, ..., 2.1000e+01, 3.9345e+02,\n",
       "        6.4800e+00],\n",
       "       [4.7410e-02, 0.0000e+00, 1.1930e+01, ..., 2.1000e+01, 3.9690e+02,\n",
       "        7.8800e+00]])"
      ]
     },
     "execution_count": 83,
     "metadata": {},
     "output_type": "execute_result"
    }
   ],
   "source": [
    "boston.data"
   ]
  },
  {
   "cell_type": "code",
   "execution_count": 84,
   "id": "51438027",
   "metadata": {
    "scrolled": true
   },
   "outputs": [
    {
     "data": {
      "text/plain": [
       "array([24. , 21.6, 34.7, 33.4, 36.2, 28.7, 22.9, 27.1, 16.5, 18.9, 15. ,\n",
       "       18.9, 21.7, 20.4, 18.2, 19.9, 23.1, 17.5, 20.2, 18.2, 13.6, 19.6,\n",
       "       15.2, 14.5, 15.6, 13.9, 16.6, 14.8, 18.4, 21. , 12.7, 14.5, 13.2,\n",
       "       13.1, 13.5, 18.9, 20. , 21. , 24.7, 30.8, 34.9, 26.6, 25.3, 24.7,\n",
       "       21.2, 19.3, 20. , 16.6, 14.4, 19.4, 19.7, 20.5, 25. , 23.4, 18.9,\n",
       "       35.4, 24.7, 31.6, 23.3, 19.6, 18.7, 16. , 22.2, 25. , 33. , 23.5,\n",
       "       19.4, 22. , 17.4, 20.9, 24.2, 21.7, 22.8, 23.4, 24.1, 21.4, 20. ,\n",
       "       20.8, 21.2, 20.3, 28. , 23.9, 24.8, 22.9, 23.9, 26.6, 22.5, 22.2,\n",
       "       23.6, 28.7, 22.6, 22. , 22.9, 25. , 20.6, 28.4, 21.4, 38.7, 43.8,\n",
       "       33.2, 27.5, 26.5, 18.6, 19.3, 20.1, 19.5, 19.5, 20.4, 19.8, 19.4,\n",
       "       21.7, 22.8, 18.8, 18.7, 18.5, 18.3, 21.2, 19.2, 20.4, 19.3, 22. ,\n",
       "       20.3, 20.5, 17.3, 18.8, 21.4, 15.7, 16.2, 18. , 14.3, 19.2, 19.6,\n",
       "       23. , 18.4, 15.6, 18.1, 17.4, 17.1, 13.3, 17.8, 14. , 14.4, 13.4,\n",
       "       15.6, 11.8, 13.8, 15.6, 14.6, 17.8, 15.4, 21.5, 19.6, 15.3, 19.4,\n",
       "       17. , 15.6, 13.1, 41.3, 24.3, 23.3, 27. , 50. , 50. , 50. , 22.7,\n",
       "       25. , 50. , 23.8, 23.8, 22.3, 17.4, 19.1, 23.1, 23.6, 22.6, 29.4,\n",
       "       23.2, 24.6, 29.9, 37.2, 39.8, 36.2, 37.9, 32.5, 26.4, 29.6, 50. ,\n",
       "       32. , 29.8, 34.9, 37. , 30.5, 36.4, 31.1, 29.1, 50. , 33.3, 30.3,\n",
       "       34.6, 34.9, 32.9, 24.1, 42.3, 48.5, 50. , 22.6, 24.4, 22.5, 24.4,\n",
       "       20. , 21.7, 19.3, 22.4, 28.1, 23.7, 25. , 23.3, 28.7, 21.5, 23. ,\n",
       "       26.7, 21.7, 27.5, 30.1, 44.8, 50. , 37.6, 31.6, 46.7, 31.5, 24.3,\n",
       "       31.7, 41.7, 48.3, 29. , 24. , 25.1, 31.5, 23.7, 23.3, 22. , 20.1,\n",
       "       22.2, 23.7, 17.6, 18.5, 24.3, 20.5, 24.5, 26.2, 24.4, 24.8, 29.6,\n",
       "       42.8, 21.9, 20.9, 44. , 50. , 36. , 30.1, 33.8, 43.1, 48.8, 31. ,\n",
       "       36.5, 22.8, 30.7, 50. , 43.5, 20.7, 21.1, 25.2, 24.4, 35.2, 32.4,\n",
       "       32. , 33.2, 33.1, 29.1, 35.1, 45.4, 35.4, 46. , 50. , 32.2, 22. ,\n",
       "       20.1, 23.2, 22.3, 24.8, 28.5, 37.3, 27.9, 23.9, 21.7, 28.6, 27.1,\n",
       "       20.3, 22.5, 29. , 24.8, 22. , 26.4, 33.1, 36.1, 28.4, 33.4, 28.2,\n",
       "       22.8, 20.3, 16.1, 22.1, 19.4, 21.6, 23.8, 16.2, 17.8, 19.8, 23.1,\n",
       "       21. , 23.8, 23.1, 20.4, 18.5, 25. , 24.6, 23. , 22.2, 19.3, 22.6,\n",
       "       19.8, 17.1, 19.4, 22.2, 20.7, 21.1, 19.5, 18.5, 20.6, 19. , 18.7,\n",
       "       32.7, 16.5, 23.9, 31.2, 17.5, 17.2, 23.1, 24.5, 26.6, 22.9, 24.1,\n",
       "       18.6, 30.1, 18.2, 20.6, 17.8, 21.7, 22.7, 22.6, 25. , 19.9, 20.8,\n",
       "       16.8, 21.9, 27.5, 21.9, 23.1, 50. , 50. , 50. , 50. , 50. , 13.8,\n",
       "       13.8, 15. , 13.9, 13.3, 13.1, 10.2, 10.4, 10.9, 11.3, 12.3,  8.8,\n",
       "        7.2, 10.5,  7.4, 10.2, 11.5, 15.1, 23.2,  9.7, 13.8, 12.7, 13.1,\n",
       "       12.5,  8.5,  5. ,  6.3,  5.6,  7.2, 12.1,  8.3,  8.5,  5. , 11.9,\n",
       "       27.9, 17.2, 27.5, 15. , 17.2, 17.9, 16.3,  7. ,  7.2,  7.5, 10.4,\n",
       "        8.8,  8.4, 16.7, 14.2, 20.8, 13.4, 11.7,  8.3, 10.2, 10.9, 11. ,\n",
       "        9.5, 14.5, 14.1, 16.1, 14.3, 11.7, 13.4,  9.6,  8.7,  8.4, 12.8,\n",
       "       10.5, 17.1, 18.4, 15.4, 10.8, 11.8, 14.9, 12.6, 14.1, 13. , 13.4,\n",
       "       15.2, 16.1, 17.8, 14.9, 14.1, 12.7, 13.5, 14.9, 20. , 16.4, 17.7,\n",
       "       19.5, 20.2, 21.4, 19.9, 19. , 19.1, 19.1, 20.1, 19.9, 19.6, 23.2,\n",
       "       29.8, 13.8, 13.3, 16.7, 12. , 14.6, 21.4, 23. , 23.7, 25. , 21.8,\n",
       "       20.6, 21.2, 19.1, 20.6, 15.2,  7. ,  8.1, 13.6, 20.1, 21.8, 24.5,\n",
       "       23.1, 19.7, 18.3, 21.2, 17.5, 16.8, 22.4, 20.6, 23.9, 22. , 11.9])"
      ]
     },
     "execution_count": 84,
     "metadata": {},
     "output_type": "execute_result"
    }
   ],
   "source": [
    "boston.target # 집 값들이 다양한 숫자로 나타나고 있음"
   ]
  },
  {
   "cell_type": "code",
   "execution_count": 85,
   "id": "051fdd47",
   "metadata": {},
   "outputs": [
    {
     "data": {
      "text/plain": [
       "array(['CRIM', 'ZN', 'INDUS', 'CHAS', 'NOX', 'RM', 'AGE', 'DIS', 'RAD',\n",
       "       'TAX', 'PTRATIO', 'B', 'LSTAT'], dtype='<U7')"
      ]
     },
     "execution_count": 85,
     "metadata": {},
     "output_type": "execute_result"
    }
   ],
   "source": [
    "boston.feature_names"
   ]
  },
  {
   "cell_type": "code",
   "execution_count": 86,
   "id": "47c96338",
   "metadata": {},
   "outputs": [],
   "source": [
    "# DataFrame으로 만들기\n",
    "boston_df = pd.DataFrame(boston.data, columns=boston.feature_names)"
   ]
  },
  {
   "cell_type": "code",
   "execution_count": 87,
   "id": "ac658def",
   "metadata": {},
   "outputs": [
    {
     "data": {
      "text/html": [
       "<div>\n",
       "<style scoped>\n",
       "    .dataframe tbody tr th:only-of-type {\n",
       "        vertical-align: middle;\n",
       "    }\n",
       "\n",
       "    .dataframe tbody tr th {\n",
       "        vertical-align: top;\n",
       "    }\n",
       "\n",
       "    .dataframe thead th {\n",
       "        text-align: right;\n",
       "    }\n",
       "</style>\n",
       "<table border=\"1\" class=\"dataframe\">\n",
       "  <thead>\n",
       "    <tr style=\"text-align: right;\">\n",
       "      <th></th>\n",
       "      <th>CRIM</th>\n",
       "      <th>ZN</th>\n",
       "      <th>INDUS</th>\n",
       "      <th>CHAS</th>\n",
       "      <th>NOX</th>\n",
       "      <th>RM</th>\n",
       "      <th>AGE</th>\n",
       "      <th>DIS</th>\n",
       "      <th>RAD</th>\n",
       "      <th>TAX</th>\n",
       "      <th>PTRATIO</th>\n",
       "      <th>B</th>\n",
       "      <th>LSTAT</th>\n",
       "    </tr>\n",
       "  </thead>\n",
       "  <tbody>\n",
       "    <tr>\n",
       "      <th>0</th>\n",
       "      <td>0.00632</td>\n",
       "      <td>18.0</td>\n",
       "      <td>2.31</td>\n",
       "      <td>0.0</td>\n",
       "      <td>0.538</td>\n",
       "      <td>6.575</td>\n",
       "      <td>65.2</td>\n",
       "      <td>4.0900</td>\n",
       "      <td>1.0</td>\n",
       "      <td>296.0</td>\n",
       "      <td>15.3</td>\n",
       "      <td>396.90</td>\n",
       "      <td>4.98</td>\n",
       "    </tr>\n",
       "    <tr>\n",
       "      <th>1</th>\n",
       "      <td>0.02731</td>\n",
       "      <td>0.0</td>\n",
       "      <td>7.07</td>\n",
       "      <td>0.0</td>\n",
       "      <td>0.469</td>\n",
       "      <td>6.421</td>\n",
       "      <td>78.9</td>\n",
       "      <td>4.9671</td>\n",
       "      <td>2.0</td>\n",
       "      <td>242.0</td>\n",
       "      <td>17.8</td>\n",
       "      <td>396.90</td>\n",
       "      <td>9.14</td>\n",
       "    </tr>\n",
       "    <tr>\n",
       "      <th>2</th>\n",
       "      <td>0.02729</td>\n",
       "      <td>0.0</td>\n",
       "      <td>7.07</td>\n",
       "      <td>0.0</td>\n",
       "      <td>0.469</td>\n",
       "      <td>7.185</td>\n",
       "      <td>61.1</td>\n",
       "      <td>4.9671</td>\n",
       "      <td>2.0</td>\n",
       "      <td>242.0</td>\n",
       "      <td>17.8</td>\n",
       "      <td>392.83</td>\n",
       "      <td>4.03</td>\n",
       "    </tr>\n",
       "    <tr>\n",
       "      <th>3</th>\n",
       "      <td>0.03237</td>\n",
       "      <td>0.0</td>\n",
       "      <td>2.18</td>\n",
       "      <td>0.0</td>\n",
       "      <td>0.458</td>\n",
       "      <td>6.998</td>\n",
       "      <td>45.8</td>\n",
       "      <td>6.0622</td>\n",
       "      <td>3.0</td>\n",
       "      <td>222.0</td>\n",
       "      <td>18.7</td>\n",
       "      <td>394.63</td>\n",
       "      <td>2.94</td>\n",
       "    </tr>\n",
       "    <tr>\n",
       "      <th>4</th>\n",
       "      <td>0.06905</td>\n",
       "      <td>0.0</td>\n",
       "      <td>2.18</td>\n",
       "      <td>0.0</td>\n",
       "      <td>0.458</td>\n",
       "      <td>7.147</td>\n",
       "      <td>54.2</td>\n",
       "      <td>6.0622</td>\n",
       "      <td>3.0</td>\n",
       "      <td>222.0</td>\n",
       "      <td>18.7</td>\n",
       "      <td>396.90</td>\n",
       "      <td>5.33</td>\n",
       "    </tr>\n",
       "    <tr>\n",
       "      <th>...</th>\n",
       "      <td>...</td>\n",
       "      <td>...</td>\n",
       "      <td>...</td>\n",
       "      <td>...</td>\n",
       "      <td>...</td>\n",
       "      <td>...</td>\n",
       "      <td>...</td>\n",
       "      <td>...</td>\n",
       "      <td>...</td>\n",
       "      <td>...</td>\n",
       "      <td>...</td>\n",
       "      <td>...</td>\n",
       "      <td>...</td>\n",
       "    </tr>\n",
       "    <tr>\n",
       "      <th>501</th>\n",
       "      <td>0.06263</td>\n",
       "      <td>0.0</td>\n",
       "      <td>11.93</td>\n",
       "      <td>0.0</td>\n",
       "      <td>0.573</td>\n",
       "      <td>6.593</td>\n",
       "      <td>69.1</td>\n",
       "      <td>2.4786</td>\n",
       "      <td>1.0</td>\n",
       "      <td>273.0</td>\n",
       "      <td>21.0</td>\n",
       "      <td>391.99</td>\n",
       "      <td>9.67</td>\n",
       "    </tr>\n",
       "    <tr>\n",
       "      <th>502</th>\n",
       "      <td>0.04527</td>\n",
       "      <td>0.0</td>\n",
       "      <td>11.93</td>\n",
       "      <td>0.0</td>\n",
       "      <td>0.573</td>\n",
       "      <td>6.120</td>\n",
       "      <td>76.7</td>\n",
       "      <td>2.2875</td>\n",
       "      <td>1.0</td>\n",
       "      <td>273.0</td>\n",
       "      <td>21.0</td>\n",
       "      <td>396.90</td>\n",
       "      <td>9.08</td>\n",
       "    </tr>\n",
       "    <tr>\n",
       "      <th>503</th>\n",
       "      <td>0.06076</td>\n",
       "      <td>0.0</td>\n",
       "      <td>11.93</td>\n",
       "      <td>0.0</td>\n",
       "      <td>0.573</td>\n",
       "      <td>6.976</td>\n",
       "      <td>91.0</td>\n",
       "      <td>2.1675</td>\n",
       "      <td>1.0</td>\n",
       "      <td>273.0</td>\n",
       "      <td>21.0</td>\n",
       "      <td>396.90</td>\n",
       "      <td>5.64</td>\n",
       "    </tr>\n",
       "    <tr>\n",
       "      <th>504</th>\n",
       "      <td>0.10959</td>\n",
       "      <td>0.0</td>\n",
       "      <td>11.93</td>\n",
       "      <td>0.0</td>\n",
       "      <td>0.573</td>\n",
       "      <td>6.794</td>\n",
       "      <td>89.3</td>\n",
       "      <td>2.3889</td>\n",
       "      <td>1.0</td>\n",
       "      <td>273.0</td>\n",
       "      <td>21.0</td>\n",
       "      <td>393.45</td>\n",
       "      <td>6.48</td>\n",
       "    </tr>\n",
       "    <tr>\n",
       "      <th>505</th>\n",
       "      <td>0.04741</td>\n",
       "      <td>0.0</td>\n",
       "      <td>11.93</td>\n",
       "      <td>0.0</td>\n",
       "      <td>0.573</td>\n",
       "      <td>6.030</td>\n",
       "      <td>80.8</td>\n",
       "      <td>2.5050</td>\n",
       "      <td>1.0</td>\n",
       "      <td>273.0</td>\n",
       "      <td>21.0</td>\n",
       "      <td>396.90</td>\n",
       "      <td>7.88</td>\n",
       "    </tr>\n",
       "  </tbody>\n",
       "</table>\n",
       "<p>506 rows × 13 columns</p>\n",
       "</div>"
      ],
      "text/plain": [
       "        CRIM    ZN  INDUS  CHAS    NOX     RM   AGE     DIS  RAD    TAX  \\\n",
       "0    0.00632  18.0   2.31   0.0  0.538  6.575  65.2  4.0900  1.0  296.0   \n",
       "1    0.02731   0.0   7.07   0.0  0.469  6.421  78.9  4.9671  2.0  242.0   \n",
       "2    0.02729   0.0   7.07   0.0  0.469  7.185  61.1  4.9671  2.0  242.0   \n",
       "3    0.03237   0.0   2.18   0.0  0.458  6.998  45.8  6.0622  3.0  222.0   \n",
       "4    0.06905   0.0   2.18   0.0  0.458  7.147  54.2  6.0622  3.0  222.0   \n",
       "..       ...   ...    ...   ...    ...    ...   ...     ...  ...    ...   \n",
       "501  0.06263   0.0  11.93   0.0  0.573  6.593  69.1  2.4786  1.0  273.0   \n",
       "502  0.04527   0.0  11.93   0.0  0.573  6.120  76.7  2.2875  1.0  273.0   \n",
       "503  0.06076   0.0  11.93   0.0  0.573  6.976  91.0  2.1675  1.0  273.0   \n",
       "504  0.10959   0.0  11.93   0.0  0.573  6.794  89.3  2.3889  1.0  273.0   \n",
       "505  0.04741   0.0  11.93   0.0  0.573  6.030  80.8  2.5050  1.0  273.0   \n",
       "\n",
       "     PTRATIO       B  LSTAT  \n",
       "0       15.3  396.90   4.98  \n",
       "1       17.8  396.90   9.14  \n",
       "2       17.8  392.83   4.03  \n",
       "3       18.7  394.63   2.94  \n",
       "4       18.7  396.90   5.33  \n",
       "..       ...     ...    ...  \n",
       "501     21.0  391.99   9.67  \n",
       "502     21.0  396.90   9.08  \n",
       "503     21.0  396.90   5.64  \n",
       "504     21.0  393.45   6.48  \n",
       "505     21.0  396.90   7.88  \n",
       "\n",
       "[506 rows x 13 columns]"
      ]
     },
     "execution_count": 87,
     "metadata": {},
     "output_type": "execute_result"
    }
   ],
   "source": [
    "boston_df"
   ]
  },
  {
   "cell_type": "code",
   "execution_count": 88,
   "id": "2e2ef11f",
   "metadata": {},
   "outputs": [
    {
     "data": {
      "text/plain": [
       "(506, 13)"
      ]
     },
     "execution_count": 88,
     "metadata": {},
     "output_type": "execute_result"
    }
   ],
   "source": [
    "boston_df.shape"
   ]
  },
  {
   "cell_type": "code",
   "execution_count": 89,
   "id": "9857fde6",
   "metadata": {},
   "outputs": [
    {
     "data": {
      "text/html": [
       "<div>\n",
       "<style scoped>\n",
       "    .dataframe tbody tr th:only-of-type {\n",
       "        vertical-align: middle;\n",
       "    }\n",
       "\n",
       "    .dataframe tbody tr th {\n",
       "        vertical-align: top;\n",
       "    }\n",
       "\n",
       "    .dataframe thead th {\n",
       "        text-align: right;\n",
       "    }\n",
       "</style>\n",
       "<table border=\"1\" class=\"dataframe\">\n",
       "  <thead>\n",
       "    <tr style=\"text-align: right;\">\n",
       "      <th></th>\n",
       "      <th>CRIM</th>\n",
       "      <th>ZN</th>\n",
       "      <th>INDUS</th>\n",
       "      <th>CHAS</th>\n",
       "      <th>NOX</th>\n",
       "      <th>RM</th>\n",
       "      <th>AGE</th>\n",
       "      <th>DIS</th>\n",
       "      <th>RAD</th>\n",
       "      <th>TAX</th>\n",
       "      <th>PTRATIO</th>\n",
       "      <th>B</th>\n",
       "      <th>LSTAT</th>\n",
       "    </tr>\n",
       "  </thead>\n",
       "  <tbody>\n",
       "    <tr>\n",
       "      <th>0</th>\n",
       "      <td>0.00632</td>\n",
       "      <td>18.0</td>\n",
       "      <td>2.31</td>\n",
       "      <td>0.0</td>\n",
       "      <td>0.538</td>\n",
       "      <td>6.575</td>\n",
       "      <td>65.2</td>\n",
       "      <td>4.09</td>\n",
       "      <td>1.0</td>\n",
       "      <td>296.0</td>\n",
       "      <td>15.3</td>\n",
       "      <td>396.9</td>\n",
       "      <td>4.98</td>\n",
       "    </tr>\n",
       "  </tbody>\n",
       "</table>\n",
       "</div>"
      ],
      "text/plain": [
       "      CRIM    ZN  INDUS  CHAS    NOX     RM   AGE   DIS  RAD    TAX  PTRATIO  \\\n",
       "0  0.00632  18.0   2.31   0.0  0.538  6.575  65.2  4.09  1.0  296.0     15.3   \n",
       "\n",
       "       B  LSTAT  \n",
       "0  396.9   4.98  "
      ]
     },
     "execution_count": 89,
     "metadata": {},
     "output_type": "execute_result"
    }
   ],
   "source": [
    "# X데이터\n",
    "boston_df.head(1)"
   ]
  },
  {
   "cell_type": "code",
   "execution_count": 90,
   "id": "f1ccbc06",
   "metadata": {
    "scrolled": true
   },
   "outputs": [],
   "source": [
    "# y데이터\n",
    "house_price = boston.target # 보스턴 주택 값"
   ]
  },
  {
   "cell_type": "code",
   "execution_count": 91,
   "id": "4504c941",
   "metadata": {},
   "outputs": [
    {
     "name": "stdout",
     "output_type": "stream",
     "text": [
      "<class 'pandas.core.frame.DataFrame'>\n",
      "RangeIndex: 506 entries, 0 to 505\n",
      "Data columns (total 13 columns):\n",
      " #   Column   Non-Null Count  Dtype  \n",
      "---  ------   --------------  -----  \n",
      " 0   CRIM     506 non-null    float64\n",
      " 1   ZN       506 non-null    float64\n",
      " 2   INDUS    506 non-null    float64\n",
      " 3   CHAS     506 non-null    float64\n",
      " 4   NOX      506 non-null    float64\n",
      " 5   RM       506 non-null    float64\n",
      " 6   AGE      506 non-null    float64\n",
      " 7   DIS      506 non-null    float64\n",
      " 8   RAD      506 non-null    float64\n",
      " 9   TAX      506 non-null    float64\n",
      " 10  PTRATIO  506 non-null    float64\n",
      " 11  B        506 non-null    float64\n",
      " 12  LSTAT    506 non-null    float64\n",
      "dtypes: float64(13)\n",
      "memory usage: 51.5 KB\n"
     ]
    }
   ],
   "source": [
    "boston_df.info()"
   ]
  },
  {
   "cell_type": "markdown",
   "id": "ed1b94cb",
   "metadata": {},
   "source": [
    "### train, test로 분리"
   ]
  },
  {
   "cell_type": "code",
   "execution_count": 92,
   "id": "bd3a6161",
   "metadata": {},
   "outputs": [],
   "source": [
    "from sklearn.model_selection import train_test_split"
   ]
  },
  {
   "cell_type": "code",
   "execution_count": 93,
   "id": "9d64cd04",
   "metadata": {},
   "outputs": [],
   "source": [
    "X_train, X_test, y_train, y_test = train_test_split(boston_df, house_price, test_size=0.3)"
   ]
  },
  {
   "cell_type": "code",
   "execution_count": 94,
   "id": "e624a109",
   "metadata": {},
   "outputs": [
    {
     "data": {
      "text/plain": [
       "((354, 13), (354,))"
      ]
     },
     "execution_count": 94,
     "metadata": {},
     "output_type": "execute_result"
    }
   ],
   "source": [
    "X_train.shape, y_train.shape"
   ]
  },
  {
   "cell_type": "code",
   "execution_count": 95,
   "id": "67c37c94",
   "metadata": {},
   "outputs": [
    {
     "data": {
      "text/plain": [
       "((152, 13), (152,))"
      ]
     },
     "execution_count": 95,
     "metadata": {},
     "output_type": "execute_result"
    }
   ],
   "source": [
    "X_test.shape, y_test.shape"
   ]
  },
  {
   "cell_type": "code",
   "execution_count": 96,
   "id": "958d8986",
   "metadata": {
    "scrolled": true
   },
   "outputs": [
    {
     "data": {
      "text/html": [
       "<div>\n",
       "<style scoped>\n",
       "    .dataframe tbody tr th:only-of-type {\n",
       "        vertical-align: middle;\n",
       "    }\n",
       "\n",
       "    .dataframe tbody tr th {\n",
       "        vertical-align: top;\n",
       "    }\n",
       "\n",
       "    .dataframe thead th {\n",
       "        text-align: right;\n",
       "    }\n",
       "</style>\n",
       "<table border=\"1\" class=\"dataframe\">\n",
       "  <thead>\n",
       "    <tr style=\"text-align: right;\">\n",
       "      <th></th>\n",
       "      <th>CRIM</th>\n",
       "      <th>ZN</th>\n",
       "      <th>INDUS</th>\n",
       "      <th>CHAS</th>\n",
       "      <th>NOX</th>\n",
       "      <th>RM</th>\n",
       "      <th>AGE</th>\n",
       "      <th>DIS</th>\n",
       "      <th>RAD</th>\n",
       "      <th>TAX</th>\n",
       "      <th>PTRATIO</th>\n",
       "      <th>B</th>\n",
       "      <th>LSTAT</th>\n",
       "    </tr>\n",
       "  </thead>\n",
       "  <tbody>\n",
       "    <tr>\n",
       "      <th>118</th>\n",
       "      <td>0.13058</td>\n",
       "      <td>0.0</td>\n",
       "      <td>10.01</td>\n",
       "      <td>0.0</td>\n",
       "      <td>0.547</td>\n",
       "      <td>5.872</td>\n",
       "      <td>73.1</td>\n",
       "      <td>2.4775</td>\n",
       "      <td>6.0</td>\n",
       "      <td>432.0</td>\n",
       "      <td>17.8</td>\n",
       "      <td>338.63</td>\n",
       "      <td>15.37</td>\n",
       "    </tr>\n",
       "    <tr>\n",
       "      <th>325</th>\n",
       "      <td>0.19186</td>\n",
       "      <td>0.0</td>\n",
       "      <td>7.38</td>\n",
       "      <td>0.0</td>\n",
       "      <td>0.493</td>\n",
       "      <td>6.431</td>\n",
       "      <td>14.7</td>\n",
       "      <td>5.4159</td>\n",
       "      <td>5.0</td>\n",
       "      <td>287.0</td>\n",
       "      <td>19.6</td>\n",
       "      <td>393.68</td>\n",
       "      <td>5.08</td>\n",
       "    </tr>\n",
       "    <tr>\n",
       "      <th>8</th>\n",
       "      <td>0.21124</td>\n",
       "      <td>12.5</td>\n",
       "      <td>7.87</td>\n",
       "      <td>0.0</td>\n",
       "      <td>0.524</td>\n",
       "      <td>5.631</td>\n",
       "      <td>100.0</td>\n",
       "      <td>6.0821</td>\n",
       "      <td>5.0</td>\n",
       "      <td>311.0</td>\n",
       "      <td>15.2</td>\n",
       "      <td>386.63</td>\n",
       "      <td>29.93</td>\n",
       "    </tr>\n",
       "    <tr>\n",
       "      <th>168</th>\n",
       "      <td>2.30040</td>\n",
       "      <td>0.0</td>\n",
       "      <td>19.58</td>\n",
       "      <td>0.0</td>\n",
       "      <td>0.605</td>\n",
       "      <td>6.319</td>\n",
       "      <td>96.1</td>\n",
       "      <td>2.1000</td>\n",
       "      <td>5.0</td>\n",
       "      <td>403.0</td>\n",
       "      <td>14.7</td>\n",
       "      <td>297.09</td>\n",
       "      <td>11.10</td>\n",
       "    </tr>\n",
       "    <tr>\n",
       "      <th>136</th>\n",
       "      <td>0.32264</td>\n",
       "      <td>0.0</td>\n",
       "      <td>21.89</td>\n",
       "      <td>0.0</td>\n",
       "      <td>0.624</td>\n",
       "      <td>5.942</td>\n",
       "      <td>93.5</td>\n",
       "      <td>1.9669</td>\n",
       "      <td>4.0</td>\n",
       "      <td>437.0</td>\n",
       "      <td>21.2</td>\n",
       "      <td>378.25</td>\n",
       "      <td>16.90</td>\n",
       "    </tr>\n",
       "    <tr>\n",
       "      <th>...</th>\n",
       "      <td>...</td>\n",
       "      <td>...</td>\n",
       "      <td>...</td>\n",
       "      <td>...</td>\n",
       "      <td>...</td>\n",
       "      <td>...</td>\n",
       "      <td>...</td>\n",
       "      <td>...</td>\n",
       "      <td>...</td>\n",
       "      <td>...</td>\n",
       "      <td>...</td>\n",
       "      <td>...</td>\n",
       "      <td>...</td>\n",
       "    </tr>\n",
       "    <tr>\n",
       "      <th>419</th>\n",
       "      <td>11.81230</td>\n",
       "      <td>0.0</td>\n",
       "      <td>18.10</td>\n",
       "      <td>0.0</td>\n",
       "      <td>0.718</td>\n",
       "      <td>6.824</td>\n",
       "      <td>76.5</td>\n",
       "      <td>1.7940</td>\n",
       "      <td>24.0</td>\n",
       "      <td>666.0</td>\n",
       "      <td>20.2</td>\n",
       "      <td>48.45</td>\n",
       "      <td>22.74</td>\n",
       "    </tr>\n",
       "    <tr>\n",
       "      <th>132</th>\n",
       "      <td>0.59005</td>\n",
       "      <td>0.0</td>\n",
       "      <td>21.89</td>\n",
       "      <td>0.0</td>\n",
       "      <td>0.624</td>\n",
       "      <td>6.372</td>\n",
       "      <td>97.9</td>\n",
       "      <td>2.3274</td>\n",
       "      <td>4.0</td>\n",
       "      <td>437.0</td>\n",
       "      <td>21.2</td>\n",
       "      <td>385.76</td>\n",
       "      <td>11.12</td>\n",
       "    </tr>\n",
       "    <tr>\n",
       "      <th>328</th>\n",
       "      <td>0.06617</td>\n",
       "      <td>0.0</td>\n",
       "      <td>3.24</td>\n",
       "      <td>0.0</td>\n",
       "      <td>0.460</td>\n",
       "      <td>5.868</td>\n",
       "      <td>25.8</td>\n",
       "      <td>5.2146</td>\n",
       "      <td>4.0</td>\n",
       "      <td>430.0</td>\n",
       "      <td>16.9</td>\n",
       "      <td>382.44</td>\n",
       "      <td>9.97</td>\n",
       "    </tr>\n",
       "    <tr>\n",
       "      <th>492</th>\n",
       "      <td>0.11132</td>\n",
       "      <td>0.0</td>\n",
       "      <td>27.74</td>\n",
       "      <td>0.0</td>\n",
       "      <td>0.609</td>\n",
       "      <td>5.983</td>\n",
       "      <td>83.5</td>\n",
       "      <td>2.1099</td>\n",
       "      <td>4.0</td>\n",
       "      <td>711.0</td>\n",
       "      <td>20.1</td>\n",
       "      <td>396.90</td>\n",
       "      <td>13.35</td>\n",
       "    </tr>\n",
       "    <tr>\n",
       "      <th>145</th>\n",
       "      <td>2.37934</td>\n",
       "      <td>0.0</td>\n",
       "      <td>19.58</td>\n",
       "      <td>0.0</td>\n",
       "      <td>0.871</td>\n",
       "      <td>6.130</td>\n",
       "      <td>100.0</td>\n",
       "      <td>1.4191</td>\n",
       "      <td>5.0</td>\n",
       "      <td>403.0</td>\n",
       "      <td>14.7</td>\n",
       "      <td>172.91</td>\n",
       "      <td>27.80</td>\n",
       "    </tr>\n",
       "  </tbody>\n",
       "</table>\n",
       "<p>354 rows × 13 columns</p>\n",
       "</div>"
      ],
      "text/plain": [
       "         CRIM    ZN  INDUS  CHAS    NOX     RM    AGE     DIS   RAD    TAX  \\\n",
       "118   0.13058   0.0  10.01   0.0  0.547  5.872   73.1  2.4775   6.0  432.0   \n",
       "325   0.19186   0.0   7.38   0.0  0.493  6.431   14.7  5.4159   5.0  287.0   \n",
       "8     0.21124  12.5   7.87   0.0  0.524  5.631  100.0  6.0821   5.0  311.0   \n",
       "168   2.30040   0.0  19.58   0.0  0.605  6.319   96.1  2.1000   5.0  403.0   \n",
       "136   0.32264   0.0  21.89   0.0  0.624  5.942   93.5  1.9669   4.0  437.0   \n",
       "..        ...   ...    ...   ...    ...    ...    ...     ...   ...    ...   \n",
       "419  11.81230   0.0  18.10   0.0  0.718  6.824   76.5  1.7940  24.0  666.0   \n",
       "132   0.59005   0.0  21.89   0.0  0.624  6.372   97.9  2.3274   4.0  437.0   \n",
       "328   0.06617   0.0   3.24   0.0  0.460  5.868   25.8  5.2146   4.0  430.0   \n",
       "492   0.11132   0.0  27.74   0.0  0.609  5.983   83.5  2.1099   4.0  711.0   \n",
       "145   2.37934   0.0  19.58   0.0  0.871  6.130  100.0  1.4191   5.0  403.0   \n",
       "\n",
       "     PTRATIO       B  LSTAT  \n",
       "118     17.8  338.63  15.37  \n",
       "325     19.6  393.68   5.08  \n",
       "8       15.2  386.63  29.93  \n",
       "168     14.7  297.09  11.10  \n",
       "136     21.2  378.25  16.90  \n",
       "..       ...     ...    ...  \n",
       "419     20.2   48.45  22.74  \n",
       "132     21.2  385.76  11.12  \n",
       "328     16.9  382.44   9.97  \n",
       "492     20.1  396.90  13.35  \n",
       "145     14.7  172.91  27.80  \n",
       "\n",
       "[354 rows x 13 columns]"
      ]
     },
     "execution_count": 96,
     "metadata": {},
     "output_type": "execute_result"
    }
   ],
   "source": [
    "boston_copy = X_train.copy()\n",
    "boston_copy"
   ]
  },
  {
   "cell_type": "code",
   "execution_count": 97,
   "id": "02e7bd2d",
   "metadata": {},
   "outputs": [
    {
     "data": {
      "text/html": [
       "<div>\n",
       "<style scoped>\n",
       "    .dataframe tbody tr th:only-of-type {\n",
       "        vertical-align: middle;\n",
       "    }\n",
       "\n",
       "    .dataframe tbody tr th {\n",
       "        vertical-align: top;\n",
       "    }\n",
       "\n",
       "    .dataframe thead th {\n",
       "        text-align: right;\n",
       "    }\n",
       "</style>\n",
       "<table border=\"1\" class=\"dataframe\">\n",
       "  <thead>\n",
       "    <tr style=\"text-align: right;\">\n",
       "      <th></th>\n",
       "      <th>CRIM</th>\n",
       "      <th>ZN</th>\n",
       "      <th>INDUS</th>\n",
       "      <th>CHAS</th>\n",
       "      <th>NOX</th>\n",
       "      <th>RM</th>\n",
       "      <th>AGE</th>\n",
       "      <th>DIS</th>\n",
       "      <th>RAD</th>\n",
       "      <th>TAX</th>\n",
       "      <th>PTRATIO</th>\n",
       "      <th>B</th>\n",
       "      <th>LSTAT</th>\n",
       "      <th>PRICE</th>\n",
       "    </tr>\n",
       "  </thead>\n",
       "  <tbody>\n",
       "    <tr>\n",
       "      <th>118</th>\n",
       "      <td>0.13058</td>\n",
       "      <td>0.0</td>\n",
       "      <td>10.01</td>\n",
       "      <td>0.0</td>\n",
       "      <td>0.547</td>\n",
       "      <td>5.872</td>\n",
       "      <td>73.1</td>\n",
       "      <td>2.4775</td>\n",
       "      <td>6.0</td>\n",
       "      <td>432.0</td>\n",
       "      <td>17.8</td>\n",
       "      <td>338.63</td>\n",
       "      <td>15.37</td>\n",
       "      <td>20.4</td>\n",
       "    </tr>\n",
       "  </tbody>\n",
       "</table>\n",
       "</div>"
      ],
      "text/plain": [
       "        CRIM   ZN  INDUS  CHAS    NOX     RM   AGE     DIS  RAD    TAX  \\\n",
       "118  0.13058  0.0  10.01   0.0  0.547  5.872  73.1  2.4775  6.0  432.0   \n",
       "\n",
       "     PTRATIO       B  LSTAT  PRICE  \n",
       "118     17.8  338.63  15.37   20.4  "
      ]
     },
     "execution_count": 97,
     "metadata": {},
     "output_type": "execute_result"
    }
   ],
   "source": [
    "# 정답 컬럼 추가하기\n",
    "boston_copy['PRICE'] = y_train\n",
    "boston_copy.head(1)"
   ]
  },
  {
   "cell_type": "code",
   "execution_count": 98,
   "id": "1f05923c",
   "metadata": {},
   "outputs": [],
   "source": [
    "import seaborn as sns"
   ]
  },
  {
   "cell_type": "code",
   "execution_count": 99,
   "id": "c8e45dbc",
   "metadata": {
    "scrolled": true
   },
   "outputs": [
    {
     "data": {
      "text/plain": [
       "<AxesSubplot:>"
      ]
     },
     "execution_count": 99,
     "metadata": {},
     "output_type": "execute_result"
    },
    {
     "data": {
      "image/png": "[encoded data removed]",
      "text/plain": [
       "<Figure size 864x864 with 2 Axes>"
      ]
     },
     "metadata": {
      "needs_background": "light"
     },
     "output_type": "display_data"
    }
   ],
   "source": [
    "# boston_df.corr() == 상관계수\n",
    "plt.figure(figsize=(12, 12))\n",
    "sns.heatmap(boston_copy.corr(), annot=True) # 열 분포 그래프"
   ]
  },
  {
   "cell_type": "markdown",
   "id": "bcccd285",
   "metadata": {},
   "source": [
    "### LinearRegrssion"
   ]
  },
  {
   "cell_type": "code",
   "execution_count": 100,
   "id": "f0769733",
   "metadata": {},
   "outputs": [],
   "source": [
    "from sklearn.linear_model import LinearRegression\n",
    "from sklearn.model_selection import cross_val_score"
   ]
  },
  {
   "cell_type": "code",
   "execution_count": 101,
   "id": "a8c52861",
   "metadata": {},
   "outputs": [],
   "source": [
    "# 모델 생성하기\n",
    "linear_model = LinearRegression()"
   ]
  },
  {
   "cell_type": "code",
   "execution_count": 102,
   "id": "1a883236",
   "metadata": {},
   "outputs": [
    {
     "data": {
      "text/plain": [
       "LinearRegression()"
      ]
     },
     "execution_count": 102,
     "metadata": {},
     "output_type": "execute_result"
    }
   ],
   "source": [
    "# 학습하기\n",
    "linear_model.fit(X_train, y_train)"
   ]
  },
  {
   "cell_type": "code",
   "execution_count": 103,
   "id": "1d57b38b",
   "metadata": {},
   "outputs": [
    {
     "data": {
      "text/plain": [
       "0.7639993034343293"
      ]
     },
     "execution_count": 103,
     "metadata": {},
     "output_type": "execute_result"
    }
   ],
   "source": [
    "linear_model.score(X_train, y_train) # R2score : sklearn에서 R2score라는 값을 제공한다"
   ]
  },
  {
   "cell_type": "code",
   "execution_count": 104,
   "id": "94878006",
   "metadata": {},
   "outputs": [
    {
     "data": {
      "text/plain": [
       "0.6403564080001575"
      ]
     },
     "execution_count": 104,
     "metadata": {},
     "output_type": "execute_result"
    }
   ],
   "source": [
    "linear_model.score(X_test, y_test)"
   ]
  },
  {
   "cell_type": "code",
   "execution_count": 105,
   "id": "82fda5c9",
   "metadata": {},
   "outputs": [
    {
     "data": {
      "text/plain": [
       "array([0.80855119, 0.7820294 , 0.71689997, 0.5215116 , 0.6949201 ])"
      ]
     },
     "execution_count": 105,
     "metadata": {},
     "output_type": "execute_result"
    }
   ],
   "source": [
    "result = cross_val_score(linear_model, X_train, y_train, cv=5)\n",
    "result"
   ]
  },
  {
   "cell_type": "markdown",
   "id": "8530fd68",
   "metadata": {},
   "source": [
    "### 특성확장\n",
    "- (선형모델을 더 잘 다루기 위해서)"
   ]
  },
  {
   "cell_type": "code",
   "execution_count": 106,
   "id": "786a0730",
   "metadata": {},
   "outputs": [],
   "source": [
    "extended_X_train = X_train.copy()"
   ]
  },
  {
   "cell_type": "code",
   "execution_count": 107,
   "id": "4ad60804",
   "metadata": {},
   "outputs": [
    {
     "name": "stderr",
     "output_type": "stream",
     "text": [
      "C:\\Users\\smhrd\\AppData\\Local\\Temp\\ipykernel_22492\\3541594611.py:3: PerformanceWarning: DataFrame is highly fragmented.  This is usually the result of calling `frame.insert` many times, which has poor performance.  Consider joining all columns at once using pd.concat(axis=1) instead. To get a de-fragmented frame, use `newframe = frame.copy()`\n",
      "  extended_X_train[col1 + 'x' + col2] = X_train[col1] * X_train[col2]\n",
      "C:\\Users\\smhrd\\AppData\\Local\\Temp\\ipykernel_22492\\3541594611.py:3: PerformanceWarning: DataFrame is highly fragmented.  This is usually the result of calling `frame.insert` many times, which has poor performance.  Consider joining all columns at once using pd.concat(axis=1) instead. To get a de-fragmented frame, use `newframe = frame.copy()`\n",
      "  extended_X_train[col1 + 'x' + col2] = X_train[col1] * X_train[col2]\n",
      "C:\\Users\\smhrd\\AppData\\Local\\Temp\\ipykernel_22492\\3541594611.py:3: PerformanceWarning: DataFrame is highly fragmented.  This is usually the result of calling `frame.insert` many times, which has poor performance.  Consider joining all columns at once using pd.concat(axis=1) instead. To get a de-fragmented frame, use `newframe = frame.copy()`\n",
      "  extended_X_train[col1 + 'x' + col2] = X_train[col1] * X_train[col2]\n",
      "C:\\Users\\smhrd\\AppData\\Local\\Temp\\ipykernel_22492\\3541594611.py:3: PerformanceWarning: DataFrame is highly fragmented.  This is usually the result of calling `frame.insert` many times, which has poor performance.  Consider joining all columns at once using pd.concat(axis=1) instead. To get a de-fragmented frame, use `newframe = frame.copy()`\n",
      "  extended_X_train[col1 + 'x' + col2] = X_train[col1] * X_train[col2]\n",
      "C:\\Users\\smhrd\\AppData\\Local\\Temp\\ipykernel_22492\\3541594611.py:3: PerformanceWarning: DataFrame is highly fragmented.  This is usually the result of calling `frame.insert` many times, which has poor performance.  Consider joining all columns at once using pd.concat(axis=1) instead. To get a de-fragmented frame, use `newframe = frame.copy()`\n",
      "  extended_X_train[col1 + 'x' + col2] = X_train[col1] * X_train[col2]\n",
      "C:\\Users\\smhrd\\AppData\\Local\\Temp\\ipykernel_22492\\3541594611.py:3: PerformanceWarning: DataFrame is highly fragmented.  This is usually the result of calling `frame.insert` many times, which has poor performance.  Consider joining all columns at once using pd.concat(axis=1) instead. To get a de-fragmented frame, use `newframe = frame.copy()`\n",
      "  extended_X_train[col1 + 'x' + col2] = X_train[col1] * X_train[col2]\n",
      "C:\\Users\\smhrd\\AppData\\Local\\Temp\\ipykernel_22492\\3541594611.py:3: PerformanceWarning: DataFrame is highly fragmented.  This is usually the result of calling `frame.insert` many times, which has poor performance.  Consider joining all columns at once using pd.concat(axis=1) instead. To get a de-fragmented frame, use `newframe = frame.copy()`\n",
      "  extended_X_train[col1 + 'x' + col2] = X_train[col1] * X_train[col2]\n",
      "C:\\Users\\smhrd\\AppData\\Local\\Temp\\ipykernel_22492\\3541594611.py:3: PerformanceWarning: DataFrame is highly fragmented.  This is usually the result of calling `frame.insert` many times, which has poor performance.  Consider joining all columns at once using pd.concat(axis=1) instead. To get a de-fragmented frame, use `newframe = frame.copy()`\n",
      "  extended_X_train[col1 + 'x' + col2] = X_train[col1] * X_train[col2]\n",
      "C:\\Users\\smhrd\\AppData\\Local\\Temp\\ipykernel_22492\\3541594611.py:3: PerformanceWarning: DataFrame is highly fragmented.  This is usually the result of calling `frame.insert` many times, which has poor performance.  Consider joining all columns at once using pd.concat(axis=1) instead. To get a de-fragmented frame, use `newframe = frame.copy()`\n",
      "  extended_X_train[col1 + 'x' + col2] = X_train[col1] * X_train[col2]\n",
      "C:\\Users\\smhrd\\AppData\\Local\\Temp\\ipykernel_22492\\3541594611.py:3: PerformanceWarning: DataFrame is highly fragmented.  This is usually the result of calling `frame.insert` many times, which has poor performance.  Consider joining all columns at once using pd.concat(axis=1) instead. To get a de-fragmented frame, use `newframe = frame.copy()`\n",
      "  extended_X_train[col1 + 'x' + col2] = X_train[col1] * X_train[col2]\n",
      "C:\\Users\\smhrd\\AppData\\Local\\Temp\\ipykernel_22492\\3541594611.py:3: PerformanceWarning: DataFrame is highly fragmented.  This is usually the result of calling `frame.insert` many times, which has poor performance.  Consider joining all columns at once using pd.concat(axis=1) instead. To get a de-fragmented frame, use `newframe = frame.copy()`\n",
      "  extended_X_train[col1 + 'x' + col2] = X_train[col1] * X_train[col2]\n",
      "C:\\Users\\smhrd\\AppData\\Local\\Temp\\ipykernel_22492\\3541594611.py:3: PerformanceWarning: DataFrame is highly fragmented.  This is usually the result of calling `frame.insert` many times, which has poor performance.  Consider joining all columns at once using pd.concat(axis=1) instead. To get a de-fragmented frame, use `newframe = frame.copy()`\n",
      "  extended_X_train[col1 + 'x' + col2] = X_train[col1] * X_train[col2]\n",
      "C:\\Users\\smhrd\\AppData\\Local\\Temp\\ipykernel_22492\\3541594611.py:3: PerformanceWarning: DataFrame is highly fragmented.  This is usually the result of calling `frame.insert` many times, which has poor performance.  Consider joining all columns at once using pd.concat(axis=1) instead. To get a de-fragmented frame, use `newframe = frame.copy()`\n",
      "  extended_X_train[col1 + 'x' + col2] = X_train[col1] * X_train[col2]\n",
      "C:\\Users\\smhrd\\AppData\\Local\\Temp\\ipykernel_22492\\3541594611.py:3: PerformanceWarning: DataFrame is highly fragmented.  This is usually the result of calling `frame.insert` many times, which has poor performance.  Consider joining all columns at once using pd.concat(axis=1) instead. To get a de-fragmented frame, use `newframe = frame.copy()`\n",
      "  extended_X_train[col1 + 'x' + col2] = X_train[col1] * X_train[col2]\n",
      "C:\\Users\\smhrd\\AppData\\Local\\Temp\\ipykernel_22492\\3541594611.py:3: PerformanceWarning: DataFrame is highly fragmented.  This is usually the result of calling `frame.insert` many times, which has poor performance.  Consider joining all columns at once using pd.concat(axis=1) instead. To get a de-fragmented frame, use `newframe = frame.copy()`\n",
      "  extended_X_train[col1 + 'x' + col2] = X_train[col1] * X_train[col2]\n",
      "C:\\Users\\smhrd\\AppData\\Local\\Temp\\ipykernel_22492\\3541594611.py:3: PerformanceWarning: DataFrame is highly fragmented.  This is usually the result of calling `frame.insert` many times, which has poor performance.  Consider joining all columns at once using pd.concat(axis=1) instead. To get a de-fragmented frame, use `newframe = frame.copy()`\n",
      "  extended_X_train[col1 + 'x' + col2] = X_train[col1] * X_train[col2]\n",
      "C:\\Users\\smhrd\\AppData\\Local\\Temp\\ipykernel_22492\\3541594611.py:3: PerformanceWarning: DataFrame is highly fragmented.  This is usually the result of calling `frame.insert` many times, which has poor performance.  Consider joining all columns at once using pd.concat(axis=1) instead. To get a de-fragmented frame, use `newframe = frame.copy()`\n",
      "  extended_X_train[col1 + 'x' + col2] = X_train[col1] * X_train[col2]\n",
      "C:\\Users\\smhrd\\AppData\\Local\\Temp\\ipykernel_22492\\3541594611.py:3: PerformanceWarning: DataFrame is highly fragmented.  This is usually the result of calling `frame.insert` many times, which has poor performance.  Consider joining all columns at once using pd.concat(axis=1) instead. To get a de-fragmented frame, use `newframe = frame.copy()`\n",
      "  extended_X_train[col1 + 'x' + col2] = X_train[col1] * X_train[col2]\n",
      "C:\\Users\\smhrd\\AppData\\Local\\Temp\\ipykernel_22492\\3541594611.py:3: PerformanceWarning: DataFrame is highly fragmented.  This is usually the result of calling `frame.insert` many times, which has poor performance.  Consider joining all columns at once using pd.concat(axis=1) instead. To get a de-fragmented frame, use `newframe = frame.copy()`\n",
      "  extended_X_train[col1 + 'x' + col2] = X_train[col1] * X_train[col2]\n",
      "C:\\Users\\smhrd\\AppData\\Local\\Temp\\ipykernel_22492\\3541594611.py:3: PerformanceWarning: DataFrame is highly fragmented.  This is usually the result of calling `frame.insert` many times, which has poor performance.  Consider joining all columns at once using pd.concat(axis=1) instead. To get a de-fragmented frame, use `newframe = frame.copy()`\n",
      "  extended_X_train[col1 + 'x' + col2] = X_train[col1] * X_train[col2]\n",
      "C:\\Users\\smhrd\\AppData\\Local\\Temp\\ipykernel_22492\\3541594611.py:3: PerformanceWarning: DataFrame is highly fragmented.  This is usually the result of calling `frame.insert` many times, which has poor performance.  Consider joining all columns at once using pd.concat(axis=1) instead. To get a de-fragmented frame, use `newframe = frame.copy()`\n",
      "  extended_X_train[col1 + 'x' + col2] = X_train[col1] * X_train[col2]\n",
      "C:\\Users\\smhrd\\AppData\\Local\\Temp\\ipykernel_22492\\3541594611.py:3: PerformanceWarning: DataFrame is highly fragmented.  This is usually the result of calling `frame.insert` many times, which has poor performance.  Consider joining all columns at once using pd.concat(axis=1) instead. To get a de-fragmented frame, use `newframe = frame.copy()`\n",
      "  extended_X_train[col1 + 'x' + col2] = X_train[col1] * X_train[col2]\n",
      "C:\\Users\\smhrd\\AppData\\Local\\Temp\\ipykernel_22492\\3541594611.py:3: PerformanceWarning: DataFrame is highly fragmented.  This is usually the result of calling `frame.insert` many times, which has poor performance.  Consider joining all columns at once using pd.concat(axis=1) instead. To get a de-fragmented frame, use `newframe = frame.copy()`\n",
      "  extended_X_train[col1 + 'x' + col2] = X_train[col1] * X_train[col2]\n",
      "C:\\Users\\smhrd\\AppData\\Local\\Temp\\ipykernel_22492\\3541594611.py:3: PerformanceWarning: DataFrame is highly fragmented.  This is usually the result of calling `frame.insert` many times, which has poor performance.  Consider joining all columns at once using pd.concat(axis=1) instead. To get a de-fragmented frame, use `newframe = frame.copy()`\n",
      "  extended_X_train[col1 + 'x' + col2] = X_train[col1] * X_train[col2]\n",
      "C:\\Users\\smhrd\\AppData\\Local\\Temp\\ipykernel_22492\\3541594611.py:3: PerformanceWarning: DataFrame is highly fragmented.  This is usually the result of calling `frame.insert` many times, which has poor performance.  Consider joining all columns at once using pd.concat(axis=1) instead. To get a de-fragmented frame, use `newframe = frame.copy()`\n",
      "  extended_X_train[col1 + 'x' + col2] = X_train[col1] * X_train[col2]\n",
      "C:\\Users\\smhrd\\AppData\\Local\\Temp\\ipykernel_22492\\3541594611.py:3: PerformanceWarning: DataFrame is highly fragmented.  This is usually the result of calling `frame.insert` many times, which has poor performance.  Consider joining all columns at once using pd.concat(axis=1) instead. To get a de-fragmented frame, use `newframe = frame.copy()`\n",
      "  extended_X_train[col1 + 'x' + col2] = X_train[col1] * X_train[col2]\n",
      "C:\\Users\\smhrd\\AppData\\Local\\Temp\\ipykernel_22492\\3541594611.py:3: PerformanceWarning: DataFrame is highly fragmented.  This is usually the result of calling `frame.insert` many times, which has poor performance.  Consider joining all columns at once using pd.concat(axis=1) instead. To get a de-fragmented frame, use `newframe = frame.copy()`\n",
      "  extended_X_train[col1 + 'x' + col2] = X_train[col1] * X_train[col2]\n",
      "C:\\Users\\smhrd\\AppData\\Local\\Temp\\ipykernel_22492\\3541594611.py:3: PerformanceWarning: DataFrame is highly fragmented.  This is usually the result of calling `frame.insert` many times, which has poor performance.  Consider joining all columns at once using pd.concat(axis=1) instead. To get a de-fragmented frame, use `newframe = frame.copy()`\n",
      "  extended_X_train[col1 + 'x' + col2] = X_train[col1] * X_train[col2]\n",
      "C:\\Users\\smhrd\\AppData\\Local\\Temp\\ipykernel_22492\\3541594611.py:3: PerformanceWarning: DataFrame is highly fragmented.  This is usually the result of calling `frame.insert` many times, which has poor performance.  Consider joining all columns at once using pd.concat(axis=1) instead. To get a de-fragmented frame, use `newframe = frame.copy()`\n",
      "  extended_X_train[col1 + 'x' + col2] = X_train[col1] * X_train[col2]\n",
      "C:\\Users\\smhrd\\AppData\\Local\\Temp\\ipykernel_22492\\3541594611.py:3: PerformanceWarning: DataFrame is highly fragmented.  This is usually the result of calling `frame.insert` many times, which has poor performance.  Consider joining all columns at once using pd.concat(axis=1) instead. To get a de-fragmented frame, use `newframe = frame.copy()`\n",
      "  extended_X_train[col1 + 'x' + col2] = X_train[col1] * X_train[col2]\n",
      "C:\\Users\\smhrd\\AppData\\Local\\Temp\\ipykernel_22492\\3541594611.py:3: PerformanceWarning: DataFrame is highly fragmented.  This is usually the result of calling `frame.insert` many times, which has poor performance.  Consider joining all columns at once using pd.concat(axis=1) instead. To get a de-fragmented frame, use `newframe = frame.copy()`\n",
      "  extended_X_train[col1 + 'x' + col2] = X_train[col1] * X_train[col2]\n",
      "C:\\Users\\smhrd\\AppData\\Local\\Temp\\ipykernel_22492\\3541594611.py:3: PerformanceWarning: DataFrame is highly fragmented.  This is usually the result of calling `frame.insert` many times, which has poor performance.  Consider joining all columns at once using pd.concat(axis=1) instead. To get a de-fragmented frame, use `newframe = frame.copy()`\n",
      "  extended_X_train[col1 + 'x' + col2] = X_train[col1] * X_train[col2]\n",
      "C:\\Users\\smhrd\\AppData\\Local\\Temp\\ipykernel_22492\\3541594611.py:3: PerformanceWarning: DataFrame is highly fragmented.  This is usually the result of calling `frame.insert` many times, which has poor performance.  Consider joining all columns at once using pd.concat(axis=1) instead. To get a de-fragmented frame, use `newframe = frame.copy()`\n",
      "  extended_X_train[col1 + 'x' + col2] = X_train[col1] * X_train[col2]\n",
      "C:\\Users\\smhrd\\AppData\\Local\\Temp\\ipykernel_22492\\3541594611.py:3: PerformanceWarning: DataFrame is highly fragmented.  This is usually the result of calling `frame.insert` many times, which has poor performance.  Consider joining all columns at once using pd.concat(axis=1) instead. To get a de-fragmented frame, use `newframe = frame.copy()`\n",
      "  extended_X_train[col1 + 'x' + col2] = X_train[col1] * X_train[col2]\n",
      "C:\\Users\\smhrd\\AppData\\Local\\Temp\\ipykernel_22492\\3541594611.py:3: PerformanceWarning: DataFrame is highly fragmented.  This is usually the result of calling `frame.insert` many times, which has poor performance.  Consider joining all columns at once using pd.concat(axis=1) instead. To get a de-fragmented frame, use `newframe = frame.copy()`\n",
      "  extended_X_train[col1 + 'x' + col2] = X_train[col1] * X_train[col2]\n",
      "C:\\Users\\smhrd\\AppData\\Local\\Temp\\ipykernel_22492\\3541594611.py:3: PerformanceWarning: DataFrame is highly fragmented.  This is usually the result of calling `frame.insert` many times, which has poor performance.  Consider joining all columns at once using pd.concat(axis=1) instead. To get a de-fragmented frame, use `newframe = frame.copy()`\n",
      "  extended_X_train[col1 + 'x' + col2] = X_train[col1] * X_train[col2]\n",
      "C:\\Users\\smhrd\\AppData\\Local\\Temp\\ipykernel_22492\\3541594611.py:3: PerformanceWarning: DataFrame is highly fragmented.  This is usually the result of calling `frame.insert` many times, which has poor performance.  Consider joining all columns at once using pd.concat(axis=1) instead. To get a de-fragmented frame, use `newframe = frame.copy()`\n",
      "  extended_X_train[col1 + 'x' + col2] = X_train[col1] * X_train[col2]\n",
      "C:\\Users\\smhrd\\AppData\\Local\\Temp\\ipykernel_22492\\3541594611.py:3: PerformanceWarning: DataFrame is highly fragmented.  This is usually the result of calling `frame.insert` many times, which has poor performance.  Consider joining all columns at once using pd.concat(axis=1) instead. To get a de-fragmented frame, use `newframe = frame.copy()`\n",
      "  extended_X_train[col1 + 'x' + col2] = X_train[col1] * X_train[col2]\n",
      "C:\\Users\\smhrd\\AppData\\Local\\Temp\\ipykernel_22492\\3541594611.py:3: PerformanceWarning: DataFrame is highly fragmented.  This is usually the result of calling `frame.insert` many times, which has poor performance.  Consider joining all columns at once using pd.concat(axis=1) instead. To get a de-fragmented frame, use `newframe = frame.copy()`\n",
      "  extended_X_train[col1 + 'x' + col2] = X_train[col1] * X_train[col2]\n",
      "C:\\Users\\smhrd\\AppData\\Local\\Temp\\ipykernel_22492\\3541594611.py:3: PerformanceWarning: DataFrame is highly fragmented.  This is usually the result of calling `frame.insert` many times, which has poor performance.  Consider joining all columns at once using pd.concat(axis=1) instead. To get a de-fragmented frame, use `newframe = frame.copy()`\n",
      "  extended_X_train[col1 + 'x' + col2] = X_train[col1] * X_train[col2]\n",
      "C:\\Users\\smhrd\\AppData\\Local\\Temp\\ipykernel_22492\\3541594611.py:3: PerformanceWarning: DataFrame is highly fragmented.  This is usually the result of calling `frame.insert` many times, which has poor performance.  Consider joining all columns at once using pd.concat(axis=1) instead. To get a de-fragmented frame, use `newframe = frame.copy()`\n",
      "  extended_X_train[col1 + 'x' + col2] = X_train[col1] * X_train[col2]\n",
      "C:\\Users\\smhrd\\AppData\\Local\\Temp\\ipykernel_22492\\3541594611.py:3: PerformanceWarning: DataFrame is highly fragmented.  This is usually the result of calling `frame.insert` many times, which has poor performance.  Consider joining all columns at once using pd.concat(axis=1) instead. To get a de-fragmented frame, use `newframe = frame.copy()`\n",
      "  extended_X_train[col1 + 'x' + col2] = X_train[col1] * X_train[col2]\n",
      "C:\\Users\\smhrd\\AppData\\Local\\Temp\\ipykernel_22492\\3541594611.py:3: PerformanceWarning: DataFrame is highly fragmented.  This is usually the result of calling `frame.insert` many times, which has poor performance.  Consider joining all columns at once using pd.concat(axis=1) instead. To get a de-fragmented frame, use `newframe = frame.copy()`\n",
      "  extended_X_train[col1 + 'x' + col2] = X_train[col1] * X_train[col2]\n",
      "C:\\Users\\smhrd\\AppData\\Local\\Temp\\ipykernel_22492\\3541594611.py:3: PerformanceWarning: DataFrame is highly fragmented.  This is usually the result of calling `frame.insert` many times, which has poor performance.  Consider joining all columns at once using pd.concat(axis=1) instead. To get a de-fragmented frame, use `newframe = frame.copy()`\n",
      "  extended_X_train[col1 + 'x' + col2] = X_train[col1] * X_train[col2]\n",
      "C:\\Users\\smhrd\\AppData\\Local\\Temp\\ipykernel_22492\\3541594611.py:3: PerformanceWarning: DataFrame is highly fragmented.  This is usually the result of calling `frame.insert` many times, which has poor performance.  Consider joining all columns at once using pd.concat(axis=1) instead. To get a de-fragmented frame, use `newframe = frame.copy()`\n",
      "  extended_X_train[col1 + 'x' + col2] = X_train[col1] * X_train[col2]\n",
      "C:\\Users\\smhrd\\AppData\\Local\\Temp\\ipykernel_22492\\3541594611.py:3: PerformanceWarning: DataFrame is highly fragmented.  This is usually the result of calling `frame.insert` many times, which has poor performance.  Consider joining all columns at once using pd.concat(axis=1) instead. To get a de-fragmented frame, use `newframe = frame.copy()`\n",
      "  extended_X_train[col1 + 'x' + col2] = X_train[col1] * X_train[col2]\n",
      "C:\\Users\\smhrd\\AppData\\Local\\Temp\\ipykernel_22492\\3541594611.py:3: PerformanceWarning: DataFrame is highly fragmented.  This is usually the result of calling `frame.insert` many times, which has poor performance.  Consider joining all columns at once using pd.concat(axis=1) instead. To get a de-fragmented frame, use `newframe = frame.copy()`\n",
      "  extended_X_train[col1 + 'x' + col2] = X_train[col1] * X_train[col2]\n",
      "C:\\Users\\smhrd\\AppData\\Local\\Temp\\ipykernel_22492\\3541594611.py:3: PerformanceWarning: DataFrame is highly fragmented.  This is usually the result of calling `frame.insert` many times, which has poor performance.  Consider joining all columns at once using pd.concat(axis=1) instead. To get a de-fragmented frame, use `newframe = frame.copy()`\n",
      "  extended_X_train[col1 + 'x' + col2] = X_train[col1] * X_train[col2]\n",
      "C:\\Users\\smhrd\\AppData\\Local\\Temp\\ipykernel_22492\\3541594611.py:3: PerformanceWarning: DataFrame is highly fragmented.  This is usually the result of calling `frame.insert` many times, which has poor performance.  Consider joining all columns at once using pd.concat(axis=1) instead. To get a de-fragmented frame, use `newframe = frame.copy()`\n",
      "  extended_X_train[col1 + 'x' + col2] = X_train[col1] * X_train[col2]\n",
      "C:\\Users\\smhrd\\AppData\\Local\\Temp\\ipykernel_22492\\3541594611.py:3: PerformanceWarning: DataFrame is highly fragmented.  This is usually the result of calling `frame.insert` many times, which has poor performance.  Consider joining all columns at once using pd.concat(axis=1) instead. To get a de-fragmented frame, use `newframe = frame.copy()`\n",
      "  extended_X_train[col1 + 'x' + col2] = X_train[col1] * X_train[col2]\n",
      "C:\\Users\\smhrd\\AppData\\Local\\Temp\\ipykernel_22492\\3541594611.py:3: PerformanceWarning: DataFrame is highly fragmented.  This is usually the result of calling `frame.insert` many times, which has poor performance.  Consider joining all columns at once using pd.concat(axis=1) instead. To get a de-fragmented frame, use `newframe = frame.copy()`\n",
      "  extended_X_train[col1 + 'x' + col2] = X_train[col1] * X_train[col2]\n",
      "C:\\Users\\smhrd\\AppData\\Local\\Temp\\ipykernel_22492\\3541594611.py:3: PerformanceWarning: DataFrame is highly fragmented.  This is usually the result of calling `frame.insert` many times, which has poor performance.  Consider joining all columns at once using pd.concat(axis=1) instead. To get a de-fragmented frame, use `newframe = frame.copy()`\n",
      "  extended_X_train[col1 + 'x' + col2] = X_train[col1] * X_train[col2]\n",
      "C:\\Users\\smhrd\\AppData\\Local\\Temp\\ipykernel_22492\\3541594611.py:3: PerformanceWarning: DataFrame is highly fragmented.  This is usually the result of calling `frame.insert` many times, which has poor performance.  Consider joining all columns at once using pd.concat(axis=1) instead. To get a de-fragmented frame, use `newframe = frame.copy()`\n",
      "  extended_X_train[col1 + 'x' + col2] = X_train[col1] * X_train[col2]\n",
      "C:\\Users\\smhrd\\AppData\\Local\\Temp\\ipykernel_22492\\3541594611.py:3: PerformanceWarning: DataFrame is highly fragmented.  This is usually the result of calling `frame.insert` many times, which has poor performance.  Consider joining all columns at once using pd.concat(axis=1) instead. To get a de-fragmented frame, use `newframe = frame.copy()`\n",
      "  extended_X_train[col1 + 'x' + col2] = X_train[col1] * X_train[col2]\n",
      "C:\\Users\\smhrd\\AppData\\Local\\Temp\\ipykernel_22492\\3541594611.py:3: PerformanceWarning: DataFrame is highly fragmented.  This is usually the result of calling `frame.insert` many times, which has poor performance.  Consider joining all columns at once using pd.concat(axis=1) instead. To get a de-fragmented frame, use `newframe = frame.copy()`\n",
      "  extended_X_train[col1 + 'x' + col2] = X_train[col1] * X_train[col2]\n",
      "C:\\Users\\smhrd\\AppData\\Local\\Temp\\ipykernel_22492\\3541594611.py:3: PerformanceWarning: DataFrame is highly fragmented.  This is usually the result of calling `frame.insert` many times, which has poor performance.  Consider joining all columns at once using pd.concat(axis=1) instead. To get a de-fragmented frame, use `newframe = frame.copy()`\n",
      "  extended_X_train[col1 + 'x' + col2] = X_train[col1] * X_train[col2]\n",
      "C:\\Users\\smhrd\\AppData\\Local\\Temp\\ipykernel_22492\\3541594611.py:3: PerformanceWarning: DataFrame is highly fragmented.  This is usually the result of calling `frame.insert` many times, which has poor performance.  Consider joining all columns at once using pd.concat(axis=1) instead. To get a de-fragmented frame, use `newframe = frame.copy()`\n",
      "  extended_X_train[col1 + 'x' + col2] = X_train[col1] * X_train[col2]\n",
      "C:\\Users\\smhrd\\AppData\\Local\\Temp\\ipykernel_22492\\3541594611.py:3: PerformanceWarning: DataFrame is highly fragmented.  This is usually the result of calling `frame.insert` many times, which has poor performance.  Consider joining all columns at once using pd.concat(axis=1) instead. To get a de-fragmented frame, use `newframe = frame.copy()`\n",
      "  extended_X_train[col1 + 'x' + col2] = X_train[col1] * X_train[col2]\n",
      "C:\\Users\\smhrd\\AppData\\Local\\Temp\\ipykernel_22492\\3541594611.py:3: PerformanceWarning: DataFrame is highly fragmented.  This is usually the result of calling `frame.insert` many times, which has poor performance.  Consider joining all columns at once using pd.concat(axis=1) instead. To get a de-fragmented frame, use `newframe = frame.copy()`\n",
      "  extended_X_train[col1 + 'x' + col2] = X_train[col1] * X_train[col2]\n",
      "C:\\Users\\smhrd\\AppData\\Local\\Temp\\ipykernel_22492\\3541594611.py:3: PerformanceWarning: DataFrame is highly fragmented.  This is usually the result of calling `frame.insert` many times, which has poor performance.  Consider joining all columns at once using pd.concat(axis=1) instead. To get a de-fragmented frame, use `newframe = frame.copy()`\n",
      "  extended_X_train[col1 + 'x' + col2] = X_train[col1] * X_train[col2]\n",
      "C:\\Users\\smhrd\\AppData\\Local\\Temp\\ipykernel_22492\\3541594611.py:3: PerformanceWarning: DataFrame is highly fragmented.  This is usually the result of calling `frame.insert` many times, which has poor performance.  Consider joining all columns at once using pd.concat(axis=1) instead. To get a de-fragmented frame, use `newframe = frame.copy()`\n",
      "  extended_X_train[col1 + 'x' + col2] = X_train[col1] * X_train[col2]\n",
      "C:\\Users\\smhrd\\AppData\\Local\\Temp\\ipykernel_22492\\3541594611.py:3: PerformanceWarning: DataFrame is highly fragmented.  This is usually the result of calling `frame.insert` many times, which has poor performance.  Consider joining all columns at once using pd.concat(axis=1) instead. To get a de-fragmented frame, use `newframe = frame.copy()`\n",
      "  extended_X_train[col1 + 'x' + col2] = X_train[col1] * X_train[col2]\n",
      "C:\\Users\\smhrd\\AppData\\Local\\Temp\\ipykernel_22492\\3541594611.py:3: PerformanceWarning: DataFrame is highly fragmented.  This is usually the result of calling `frame.insert` many times, which has poor performance.  Consider joining all columns at once using pd.concat(axis=1) instead. To get a de-fragmented frame, use `newframe = frame.copy()`\n",
      "  extended_X_train[col1 + 'x' + col2] = X_train[col1] * X_train[col2]\n",
      "C:\\Users\\smhrd\\AppData\\Local\\Temp\\ipykernel_22492\\3541594611.py:3: PerformanceWarning: DataFrame is highly fragmented.  This is usually the result of calling `frame.insert` many times, which has poor performance.  Consider joining all columns at once using pd.concat(axis=1) instead. To get a de-fragmented frame, use `newframe = frame.copy()`\n",
      "  extended_X_train[col1 + 'x' + col2] = X_train[col1] * X_train[col2]\n",
      "C:\\Users\\smhrd\\AppData\\Local\\Temp\\ipykernel_22492\\3541594611.py:3: PerformanceWarning: DataFrame is highly fragmented.  This is usually the result of calling `frame.insert` many times, which has poor performance.  Consider joining all columns at once using pd.concat(axis=1) instead. To get a de-fragmented frame, use `newframe = frame.copy()`\n",
      "  extended_X_train[col1 + 'x' + col2] = X_train[col1] * X_train[col2]\n",
      "C:\\Users\\smhrd\\AppData\\Local\\Temp\\ipykernel_22492\\3541594611.py:3: PerformanceWarning: DataFrame is highly fragmented.  This is usually the result of calling `frame.insert` many times, which has poor performance.  Consider joining all columns at once using pd.concat(axis=1) instead. To get a de-fragmented frame, use `newframe = frame.copy()`\n",
      "  extended_X_train[col1 + 'x' + col2] = X_train[col1] * X_train[col2]\n",
      "C:\\Users\\smhrd\\AppData\\Local\\Temp\\ipykernel_22492\\3541594611.py:3: PerformanceWarning: DataFrame is highly fragmented.  This is usually the result of calling `frame.insert` many times, which has poor performance.  Consider joining all columns at once using pd.concat(axis=1) instead. To get a de-fragmented frame, use `newframe = frame.copy()`\n",
      "  extended_X_train[col1 + 'x' + col2] = X_train[col1] * X_train[col2]\n",
      "C:\\Users\\smhrd\\AppData\\Local\\Temp\\ipykernel_22492\\3541594611.py:3: PerformanceWarning: DataFrame is highly fragmented.  This is usually the result of calling `frame.insert` many times, which has poor performance.  Consider joining all columns at once using pd.concat(axis=1) instead. To get a de-fragmented frame, use `newframe = frame.copy()`\n",
      "  extended_X_train[col1 + 'x' + col2] = X_train[col1] * X_train[col2]\n",
      "C:\\Users\\smhrd\\AppData\\Local\\Temp\\ipykernel_22492\\3541594611.py:3: PerformanceWarning: DataFrame is highly fragmented.  This is usually the result of calling `frame.insert` many times, which has poor performance.  Consider joining all columns at once using pd.concat(axis=1) instead. To get a de-fragmented frame, use `newframe = frame.copy()`\n",
      "  extended_X_train[col1 + 'x' + col2] = X_train[col1] * X_train[col2]\n",
      "C:\\Users\\smhrd\\AppData\\Local\\Temp\\ipykernel_22492\\3541594611.py:3: PerformanceWarning: DataFrame is highly fragmented.  This is usually the result of calling `frame.insert` many times, which has poor performance.  Consider joining all columns at once using pd.concat(axis=1) instead. To get a de-fragmented frame, use `newframe = frame.copy()`\n",
      "  extended_X_train[col1 + 'x' + col2] = X_train[col1] * X_train[col2]\n"
     ]
    }
   ],
   "source": [
    "for col1 in X_train.columns:\n",
    "    for col2 in X_train.columns:\n",
    "        extended_X_train[col1 + 'x' + col2] = X_train[col1] * X_train[col2]"
   ]
  },
  {
   "cell_type": "code",
   "execution_count": 108,
   "id": "caddc2cd",
   "metadata": {},
   "outputs": [
    {
     "data": {
      "text/plain": [
       "(354, 182)"
      ]
     },
     "execution_count": 108,
     "metadata": {},
     "output_type": "execute_result"
    }
   ],
   "source": [
    "extended_X_train.shape"
   ]
  },
  {
   "cell_type": "code",
   "execution_count": 109,
   "id": "c7c681c5",
   "metadata": {},
   "outputs": [
    {
     "data": {
      "text/plain": [
       "LinearRegression()"
      ]
     },
     "execution_count": 109,
     "metadata": {},
     "output_type": "execute_result"
    }
   ],
   "source": [
    "# 데이터 학습\n",
    "linear_model2 = LinearRegression()\n",
    "linear_model2.fit(extended_X_train, y_train)"
   ]
  },
  {
   "cell_type": "code",
   "execution_count": 110,
   "id": "405b866a",
   "metadata": {},
   "outputs": [
    {
     "data": {
      "text/plain": [
       "array([0.91739074, 0.87924638, 0.869181  , 0.5300286 , 0.71242227])"
      ]
     },
     "execution_count": 110,
     "metadata": {},
     "output_type": "execute_result"
    }
   ],
   "source": [
    "result2 = cross_val_score(linear_model2, extended_X_train, y_train, cv=5)\n",
    "result2"
   ]
  },
  {
   "cell_type": "code",
   "execution_count": 111,
   "id": "1eaca481",
   "metadata": {},
   "outputs": [
    {
     "data": {
      "text/plain": [
       "0.7816537958314821"
      ]
     },
     "execution_count": 111,
     "metadata": {},
     "output_type": "execute_result"
    }
   ],
   "source": [
    "result2.mean()"
   ]
  },
  {
   "cell_type": "code",
   "execution_count": 112,
   "id": "29ce4136",
   "metadata": {},
   "outputs": [],
   "source": [
    "extended_X_test = X_test.copy()"
   ]
  },
  {
   "cell_type": "code",
   "execution_count": 113,
   "id": "eb5cda5f",
   "metadata": {},
   "outputs": [
    {
     "name": "stderr",
     "output_type": "stream",
     "text": [
      "C:\\Users\\smhrd\\AppData\\Local\\Temp\\ipykernel_22492\\903382376.py:3: PerformanceWarning: DataFrame is highly fragmented.  This is usually the result of calling `frame.insert` many times, which has poor performance.  Consider joining all columns at once using pd.concat(axis=1) instead. To get a de-fragmented frame, use `newframe = frame.copy()`\n",
      "  extended_X_test[col1 + 'x' + col2] = X_test[col1] * X_test[col2]\n",
      "C:\\Users\\smhrd\\AppData\\Local\\Temp\\ipykernel_22492\\903382376.py:3: PerformanceWarning: DataFrame is highly fragmented.  This is usually the result of calling `frame.insert` many times, which has poor performance.  Consider joining all columns at once using pd.concat(axis=1) instead. To get a de-fragmented frame, use `newframe = frame.copy()`\n",
      "  extended_X_test[col1 + 'x' + col2] = X_test[col1] * X_test[col2]\n",
      "C:\\Users\\smhrd\\AppData\\Local\\Temp\\ipykernel_22492\\903382376.py:3: PerformanceWarning: DataFrame is highly fragmented.  This is usually the result of calling `frame.insert` many times, which has poor performance.  Consider joining all columns at once using pd.concat(axis=1) instead. To get a de-fragmented frame, use `newframe = frame.copy()`\n",
      "  extended_X_test[col1 + 'x' + col2] = X_test[col1] * X_test[col2]\n",
      "C:\\Users\\smhrd\\AppData\\Local\\Temp\\ipykernel_22492\\903382376.py:3: PerformanceWarning: DataFrame is highly fragmented.  This is usually the result of calling `frame.insert` many times, which has poor performance.  Consider joining all columns at once using pd.concat(axis=1) instead. To get a de-fragmented frame, use `newframe = frame.copy()`\n",
      "  extended_X_test[col1 + 'x' + col2] = X_test[col1] * X_test[col2]\n",
      "C:\\Users\\smhrd\\AppData\\Local\\Temp\\ipykernel_22492\\903382376.py:3: PerformanceWarning: DataFrame is highly fragmented.  This is usually the result of calling `frame.insert` many times, which has poor performance.  Consider joining all columns at once using pd.concat(axis=1) instead. To get a de-fragmented frame, use `newframe = frame.copy()`\n",
      "  extended_X_test[col1 + 'x' + col2] = X_test[col1] * X_test[col2]\n",
      "C:\\Users\\smhrd\\AppData\\Local\\Temp\\ipykernel_22492\\903382376.py:3: PerformanceWarning: DataFrame is highly fragmented.  This is usually the result of calling `frame.insert` many times, which has poor performance.  Consider joining all columns at once using pd.concat(axis=1) instead. To get a de-fragmented frame, use `newframe = frame.copy()`\n",
      "  extended_X_test[col1 + 'x' + col2] = X_test[col1] * X_test[col2]\n",
      "C:\\Users\\smhrd\\AppData\\Local\\Temp\\ipykernel_22492\\903382376.py:3: PerformanceWarning: DataFrame is highly fragmented.  This is usually the result of calling `frame.insert` many times, which has poor performance.  Consider joining all columns at once using pd.concat(axis=1) instead. To get a de-fragmented frame, use `newframe = frame.copy()`\n",
      "  extended_X_test[col1 + 'x' + col2] = X_test[col1] * X_test[col2]\n",
      "C:\\Users\\smhrd\\AppData\\Local\\Temp\\ipykernel_22492\\903382376.py:3: PerformanceWarning: DataFrame is highly fragmented.  This is usually the result of calling `frame.insert` many times, which has poor performance.  Consider joining all columns at once using pd.concat(axis=1) instead. To get a de-fragmented frame, use `newframe = frame.copy()`\n",
      "  extended_X_test[col1 + 'x' + col2] = X_test[col1] * X_test[col2]\n",
      "C:\\Users\\smhrd\\AppData\\Local\\Temp\\ipykernel_22492\\903382376.py:3: PerformanceWarning: DataFrame is highly fragmented.  This is usually the result of calling `frame.insert` many times, which has poor performance.  Consider joining all columns at once using pd.concat(axis=1) instead. To get a de-fragmented frame, use `newframe = frame.copy()`\n",
      "  extended_X_test[col1 + 'x' + col2] = X_test[col1] * X_test[col2]\n",
      "C:\\Users\\smhrd\\AppData\\Local\\Temp\\ipykernel_22492\\903382376.py:3: PerformanceWarning: DataFrame is highly fragmented.  This is usually the result of calling `frame.insert` many times, which has poor performance.  Consider joining all columns at once using pd.concat(axis=1) instead. To get a de-fragmented frame, use `newframe = frame.copy()`\n",
      "  extended_X_test[col1 + 'x' + col2] = X_test[col1] * X_test[col2]\n",
      "C:\\Users\\smhrd\\AppData\\Local\\Temp\\ipykernel_22492\\903382376.py:3: PerformanceWarning: DataFrame is highly fragmented.  This is usually the result of calling `frame.insert` many times, which has poor performance.  Consider joining all columns at once using pd.concat(axis=1) instead. To get a de-fragmented frame, use `newframe = frame.copy()`\n",
      "  extended_X_test[col1 + 'x' + col2] = X_test[col1] * X_test[col2]\n",
      "C:\\Users\\smhrd\\AppData\\Local\\Temp\\ipykernel_22492\\903382376.py:3: PerformanceWarning: DataFrame is highly fragmented.  This is usually the result of calling `frame.insert` many times, which has poor performance.  Consider joining all columns at once using pd.concat(axis=1) instead. To get a de-fragmented frame, use `newframe = frame.copy()`\n",
      "  extended_X_test[col1 + 'x' + col2] = X_test[col1] * X_test[col2]\n",
      "C:\\Users\\smhrd\\AppData\\Local\\Temp\\ipykernel_22492\\903382376.py:3: PerformanceWarning: DataFrame is highly fragmented.  This is usually the result of calling `frame.insert` many times, which has poor performance.  Consider joining all columns at once using pd.concat(axis=1) instead. To get a de-fragmented frame, use `newframe = frame.copy()`\n",
      "  extended_X_test[col1 + 'x' + col2] = X_test[col1] * X_test[col2]\n",
      "C:\\Users\\smhrd\\AppData\\Local\\Temp\\ipykernel_22492\\903382376.py:3: PerformanceWarning: DataFrame is highly fragmented.  This is usually the result of calling `frame.insert` many times, which has poor performance.  Consider joining all columns at once using pd.concat(axis=1) instead. To get a de-fragmented frame, use `newframe = frame.copy()`\n",
      "  extended_X_test[col1 + 'x' + col2] = X_test[col1] * X_test[col2]\n",
      "C:\\Users\\smhrd\\AppData\\Local\\Temp\\ipykernel_22492\\903382376.py:3: PerformanceWarning: DataFrame is highly fragmented.  This is usually the result of calling `frame.insert` many times, which has poor performance.  Consider joining all columns at once using pd.concat(axis=1) instead. To get a de-fragmented frame, use `newframe = frame.copy()`\n",
      "  extended_X_test[col1 + 'x' + col2] = X_test[col1] * X_test[col2]\n",
      "C:\\Users\\smhrd\\AppData\\Local\\Temp\\ipykernel_22492\\903382376.py:3: PerformanceWarning: DataFrame is highly fragmented.  This is usually the result of calling `frame.insert` many times, which has poor performance.  Consider joining all columns at once using pd.concat(axis=1) instead. To get a de-fragmented frame, use `newframe = frame.copy()`\n",
      "  extended_X_test[col1 + 'x' + col2] = X_test[col1] * X_test[col2]\n",
      "C:\\Users\\smhrd\\AppData\\Local\\Temp\\ipykernel_22492\\903382376.py:3: PerformanceWarning: DataFrame is highly fragmented.  This is usually the result of calling `frame.insert` many times, which has poor performance.  Consider joining all columns at once using pd.concat(axis=1) instead. To get a de-fragmented frame, use `newframe = frame.copy()`\n",
      "  extended_X_test[col1 + 'x' + col2] = X_test[col1] * X_test[col2]\n",
      "C:\\Users\\smhrd\\AppData\\Local\\Temp\\ipykernel_22492\\903382376.py:3: PerformanceWarning: DataFrame is highly fragmented.  This is usually the result of calling `frame.insert` many times, which has poor performance.  Consider joining all columns at once using pd.concat(axis=1) instead. To get a de-fragmented frame, use `newframe = frame.copy()`\n",
      "  extended_X_test[col1 + 'x' + col2] = X_test[col1] * X_test[col2]\n",
      "C:\\Users\\smhrd\\AppData\\Local\\Temp\\ipykernel_22492\\903382376.py:3: PerformanceWarning: DataFrame is highly fragmented.  This is usually the result of calling `frame.insert` many times, which has poor performance.  Consider joining all columns at once using pd.concat(axis=1) instead. To get a de-fragmented frame, use `newframe = frame.copy()`\n",
      "  extended_X_test[col1 + 'x' + col2] = X_test[col1] * X_test[col2]\n",
      "C:\\Users\\smhrd\\AppData\\Local\\Temp\\ipykernel_22492\\903382376.py:3: PerformanceWarning: DataFrame is highly fragmented.  This is usually the result of calling `frame.insert` many times, which has poor performance.  Consider joining all columns at once using pd.concat(axis=1) instead. To get a de-fragmented frame, use `newframe = frame.copy()`\n",
      "  extended_X_test[col1 + 'x' + col2] = X_test[col1] * X_test[col2]\n",
      "C:\\Users\\smhrd\\AppData\\Local\\Temp\\ipykernel_22492\\903382376.py:3: PerformanceWarning: DataFrame is highly fragmented.  This is usually the result of calling `frame.insert` many times, which has poor performance.  Consider joining all columns at once using pd.concat(axis=1) instead. To get a de-fragmented frame, use `newframe = frame.copy()`\n",
      "  extended_X_test[col1 + 'x' + col2] = X_test[col1] * X_test[col2]\n",
      "C:\\Users\\smhrd\\AppData\\Local\\Temp\\ipykernel_22492\\903382376.py:3: PerformanceWarning: DataFrame is highly fragmented.  This is usually the result of calling `frame.insert` many times, which has poor performance.  Consider joining all columns at once using pd.concat(axis=1) instead. To get a de-fragmented frame, use `newframe = frame.copy()`\n",
      "  extended_X_test[col1 + 'x' + col2] = X_test[col1] * X_test[col2]\n",
      "C:\\Users\\smhrd\\AppData\\Local\\Temp\\ipykernel_22492\\903382376.py:3: PerformanceWarning: DataFrame is highly fragmented.  This is usually the result of calling `frame.insert` many times, which has poor performance.  Consider joining all columns at once using pd.concat(axis=1) instead. To get a de-fragmented frame, use `newframe = frame.copy()`\n",
      "  extended_X_test[col1 + 'x' + col2] = X_test[col1] * X_test[col2]\n",
      "C:\\Users\\smhrd\\AppData\\Local\\Temp\\ipykernel_22492\\903382376.py:3: PerformanceWarning: DataFrame is highly fragmented.  This is usually the result of calling `frame.insert` many times, which has poor performance.  Consider joining all columns at once using pd.concat(axis=1) instead. To get a de-fragmented frame, use `newframe = frame.copy()`\n",
      "  extended_X_test[col1 + 'x' + col2] = X_test[col1] * X_test[col2]\n",
      "C:\\Users\\smhrd\\AppData\\Local\\Temp\\ipykernel_22492\\903382376.py:3: PerformanceWarning: DataFrame is highly fragmented.  This is usually the result of calling `frame.insert` many times, which has poor performance.  Consider joining all columns at once using pd.concat(axis=1) instead. To get a de-fragmented frame, use `newframe = frame.copy()`\n",
      "  extended_X_test[col1 + 'x' + col2] = X_test[col1] * X_test[col2]\n",
      "C:\\Users\\smhrd\\AppData\\Local\\Temp\\ipykernel_22492\\903382376.py:3: PerformanceWarning: DataFrame is highly fragmented.  This is usually the result of calling `frame.insert` many times, which has poor performance.  Consider joining all columns at once using pd.concat(axis=1) instead. To get a de-fragmented frame, use `newframe = frame.copy()`\n",
      "  extended_X_test[col1 + 'x' + col2] = X_test[col1] * X_test[col2]\n",
      "C:\\Users\\smhrd\\AppData\\Local\\Temp\\ipykernel_22492\\903382376.py:3: PerformanceWarning: DataFrame is highly fragmented.  This is usually the result of calling `frame.insert` many times, which has poor performance.  Consider joining all columns at once using pd.concat(axis=1) instead. To get a de-fragmented frame, use `newframe = frame.copy()`\n",
      "  extended_X_test[col1 + 'x' + col2] = X_test[col1] * X_test[col2]\n",
      "C:\\Users\\smhrd\\AppData\\Local\\Temp\\ipykernel_22492\\903382376.py:3: PerformanceWarning: DataFrame is highly fragmented.  This is usually the result of calling `frame.insert` many times, which has poor performance.  Consider joining all columns at once using pd.concat(axis=1) instead. To get a de-fragmented frame, use `newframe = frame.copy()`\n",
      "  extended_X_test[col1 + 'x' + col2] = X_test[col1] * X_test[col2]\n",
      "C:\\Users\\smhrd\\AppData\\Local\\Temp\\ipykernel_22492\\903382376.py:3: PerformanceWarning: DataFrame is highly fragmented.  This is usually the result of calling `frame.insert` many times, which has poor performance.  Consider joining all columns at once using pd.concat(axis=1) instead. To get a de-fragmented frame, use `newframe = frame.copy()`\n",
      "  extended_X_test[col1 + 'x' + col2] = X_test[col1] * X_test[col2]\n",
      "C:\\Users\\smhrd\\AppData\\Local\\Temp\\ipykernel_22492\\903382376.py:3: PerformanceWarning: DataFrame is highly fragmented.  This is usually the result of calling `frame.insert` many times, which has poor performance.  Consider joining all columns at once using pd.concat(axis=1) instead. To get a de-fragmented frame, use `newframe = frame.copy()`\n",
      "  extended_X_test[col1 + 'x' + col2] = X_test[col1] * X_test[col2]\n",
      "C:\\Users\\smhrd\\AppData\\Local\\Temp\\ipykernel_22492\\903382376.py:3: PerformanceWarning: DataFrame is highly fragmented.  This is usually the result of calling `frame.insert` many times, which has poor performance.  Consider joining all columns at once using pd.concat(axis=1) instead. To get a de-fragmented frame, use `newframe = frame.copy()`\n",
      "  extended_X_test[col1 + 'x' + col2] = X_test[col1] * X_test[col2]\n",
      "C:\\Users\\smhrd\\AppData\\Local\\Temp\\ipykernel_22492\\903382376.py:3: PerformanceWarning: DataFrame is highly fragmented.  This is usually the result of calling `frame.insert` many times, which has poor performance.  Consider joining all columns at once using pd.concat(axis=1) instead. To get a de-fragmented frame, use `newframe = frame.copy()`\n",
      "  extended_X_test[col1 + 'x' + col2] = X_test[col1] * X_test[col2]\n",
      "C:\\Users\\smhrd\\AppData\\Local\\Temp\\ipykernel_22492\\903382376.py:3: PerformanceWarning: DataFrame is highly fragmented.  This is usually the result of calling `frame.insert` many times, which has poor performance.  Consider joining all columns at once using pd.concat(axis=1) instead. To get a de-fragmented frame, use `newframe = frame.copy()`\n",
      "  extended_X_test[col1 + 'x' + col2] = X_test[col1] * X_test[col2]\n",
      "C:\\Users\\smhrd\\AppData\\Local\\Temp\\ipykernel_22492\\903382376.py:3: PerformanceWarning: DataFrame is highly fragmented.  This is usually the result of calling `frame.insert` many times, which has poor performance.  Consider joining all columns at once using pd.concat(axis=1) instead. To get a de-fragmented frame, use `newframe = frame.copy()`\n",
      "  extended_X_test[col1 + 'x' + col2] = X_test[col1] * X_test[col2]\n",
      "C:\\Users\\smhrd\\AppData\\Local\\Temp\\ipykernel_22492\\903382376.py:3: PerformanceWarning: DataFrame is highly fragmented.  This is usually the result of calling `frame.insert` many times, which has poor performance.  Consider joining all columns at once using pd.concat(axis=1) instead. To get a de-fragmented frame, use `newframe = frame.copy()`\n",
      "  extended_X_test[col1 + 'x' + col2] = X_test[col1] * X_test[col2]\n",
      "C:\\Users\\smhrd\\AppData\\Local\\Temp\\ipykernel_22492\\903382376.py:3: PerformanceWarning: DataFrame is highly fragmented.  This is usually the result of calling `frame.insert` many times, which has poor performance.  Consider joining all columns at once using pd.concat(axis=1) instead. To get a de-fragmented frame, use `newframe = frame.copy()`\n",
      "  extended_X_test[col1 + 'x' + col2] = X_test[col1] * X_test[col2]\n",
      "C:\\Users\\smhrd\\AppData\\Local\\Temp\\ipykernel_22492\\903382376.py:3: PerformanceWarning: DataFrame is highly fragmented.  This is usually the result of calling `frame.insert` many times, which has poor performance.  Consider joining all columns at once using pd.concat(axis=1) instead. To get a de-fragmented frame, use `newframe = frame.copy()`\n",
      "  extended_X_test[col1 + 'x' + col2] = X_test[col1] * X_test[col2]\n",
      "C:\\Users\\smhrd\\AppData\\Local\\Temp\\ipykernel_22492\\903382376.py:3: PerformanceWarning: DataFrame is highly fragmented.  This is usually the result of calling `frame.insert` many times, which has poor performance.  Consider joining all columns at once using pd.concat(axis=1) instead. To get a de-fragmented frame, use `newframe = frame.copy()`\n",
      "  extended_X_test[col1 + 'x' + col2] = X_test[col1] * X_test[col2]\n",
      "C:\\Users\\smhrd\\AppData\\Local\\Temp\\ipykernel_22492\\903382376.py:3: PerformanceWarning: DataFrame is highly fragmented.  This is usually the result of calling `frame.insert` many times, which has poor performance.  Consider joining all columns at once using pd.concat(axis=1) instead. To get a de-fragmented frame, use `newframe = frame.copy()`\n",
      "  extended_X_test[col1 + 'x' + col2] = X_test[col1] * X_test[col2]\n",
      "C:\\Users\\smhrd\\AppData\\Local\\Temp\\ipykernel_22492\\903382376.py:3: PerformanceWarning: DataFrame is highly fragmented.  This is usually the result of calling `frame.insert` many times, which has poor performance.  Consider joining all columns at once using pd.concat(axis=1) instead. To get a de-fragmented frame, use `newframe = frame.copy()`\n",
      "  extended_X_test[col1 + 'x' + col2] = X_test[col1] * X_test[col2]\n",
      "C:\\Users\\smhrd\\AppData\\Local\\Temp\\ipykernel_22492\\903382376.py:3: PerformanceWarning: DataFrame is highly fragmented.  This is usually the result of calling `frame.insert` many times, which has poor performance.  Consider joining all columns at once using pd.concat(axis=1) instead. To get a de-fragmented frame, use `newframe = frame.copy()`\n",
      "  extended_X_test[col1 + 'x' + col2] = X_test[col1] * X_test[col2]\n",
      "C:\\Users\\smhrd\\AppData\\Local\\Temp\\ipykernel_22492\\903382376.py:3: PerformanceWarning: DataFrame is highly fragmented.  This is usually the result of calling `frame.insert` many times, which has poor performance.  Consider joining all columns at once using pd.concat(axis=1) instead. To get a de-fragmented frame, use `newframe = frame.copy()`\n",
      "  extended_X_test[col1 + 'x' + col2] = X_test[col1] * X_test[col2]\n",
      "C:\\Users\\smhrd\\AppData\\Local\\Temp\\ipykernel_22492\\903382376.py:3: PerformanceWarning: DataFrame is highly fragmented.  This is usually the result of calling `frame.insert` many times, which has poor performance.  Consider joining all columns at once using pd.concat(axis=1) instead. To get a de-fragmented frame, use `newframe = frame.copy()`\n",
      "  extended_X_test[col1 + 'x' + col2] = X_test[col1] * X_test[col2]\n",
      "C:\\Users\\smhrd\\AppData\\Local\\Temp\\ipykernel_22492\\903382376.py:3: PerformanceWarning: DataFrame is highly fragmented.  This is usually the result of calling `frame.insert` many times, which has poor performance.  Consider joining all columns at once using pd.concat(axis=1) instead. To get a de-fragmented frame, use `newframe = frame.copy()`\n",
      "  extended_X_test[col1 + 'x' + col2] = X_test[col1] * X_test[col2]\n",
      "C:\\Users\\smhrd\\AppData\\Local\\Temp\\ipykernel_22492\\903382376.py:3: PerformanceWarning: DataFrame is highly fragmented.  This is usually the result of calling `frame.insert` many times, which has poor performance.  Consider joining all columns at once using pd.concat(axis=1) instead. To get a de-fragmented frame, use `newframe = frame.copy()`\n",
      "  extended_X_test[col1 + 'x' + col2] = X_test[col1] * X_test[col2]\n",
      "C:\\Users\\smhrd\\AppData\\Local\\Temp\\ipykernel_22492\\903382376.py:3: PerformanceWarning: DataFrame is highly fragmented.  This is usually the result of calling `frame.insert` many times, which has poor performance.  Consider joining all columns at once using pd.concat(axis=1) instead. To get a de-fragmented frame, use `newframe = frame.copy()`\n",
      "  extended_X_test[col1 + 'x' + col2] = X_test[col1] * X_test[col2]\n",
      "C:\\Users\\smhrd\\AppData\\Local\\Temp\\ipykernel_22492\\903382376.py:3: PerformanceWarning: DataFrame is highly fragmented.  This is usually the result of calling `frame.insert` many times, which has poor performance.  Consider joining all columns at once using pd.concat(axis=1) instead. To get a de-fragmented frame, use `newframe = frame.copy()`\n",
      "  extended_X_test[col1 + 'x' + col2] = X_test[col1] * X_test[col2]\n",
      "C:\\Users\\smhrd\\AppData\\Local\\Temp\\ipykernel_22492\\903382376.py:3: PerformanceWarning: DataFrame is highly fragmented.  This is usually the result of calling `frame.insert` many times, which has poor performance.  Consider joining all columns at once using pd.concat(axis=1) instead. To get a de-fragmented frame, use `newframe = frame.copy()`\n",
      "  extended_X_test[col1 + 'x' + col2] = X_test[col1] * X_test[col2]\n",
      "C:\\Users\\smhrd\\AppData\\Local\\Temp\\ipykernel_22492\\903382376.py:3: PerformanceWarning: DataFrame is highly fragmented.  This is usually the result of calling `frame.insert` many times, which has poor performance.  Consider joining all columns at once using pd.concat(axis=1) instead. To get a de-fragmented frame, use `newframe = frame.copy()`\n",
      "  extended_X_test[col1 + 'x' + col2] = X_test[col1] * X_test[col2]\n",
      "C:\\Users\\smhrd\\AppData\\Local\\Temp\\ipykernel_22492\\903382376.py:3: PerformanceWarning: DataFrame is highly fragmented.  This is usually the result of calling `frame.insert` many times, which has poor performance.  Consider joining all columns at once using pd.concat(axis=1) instead. To get a de-fragmented frame, use `newframe = frame.copy()`\n",
      "  extended_X_test[col1 + 'x' + col2] = X_test[col1] * X_test[col2]\n",
      "C:\\Users\\smhrd\\AppData\\Local\\Temp\\ipykernel_22492\\903382376.py:3: PerformanceWarning: DataFrame is highly fragmented.  This is usually the result of calling `frame.insert` many times, which has poor performance.  Consider joining all columns at once using pd.concat(axis=1) instead. To get a de-fragmented frame, use `newframe = frame.copy()`\n",
      "  extended_X_test[col1 + 'x' + col2] = X_test[col1] * X_test[col2]\n",
      "C:\\Users\\smhrd\\AppData\\Local\\Temp\\ipykernel_22492\\903382376.py:3: PerformanceWarning: DataFrame is highly fragmented.  This is usually the result of calling `frame.insert` many times, which has poor performance.  Consider joining all columns at once using pd.concat(axis=1) instead. To get a de-fragmented frame, use `newframe = frame.copy()`\n",
      "  extended_X_test[col1 + 'x' + col2] = X_test[col1] * X_test[col2]\n",
      "C:\\Users\\smhrd\\AppData\\Local\\Temp\\ipykernel_22492\\903382376.py:3: PerformanceWarning: DataFrame is highly fragmented.  This is usually the result of calling `frame.insert` many times, which has poor performance.  Consider joining all columns at once using pd.concat(axis=1) instead. To get a de-fragmented frame, use `newframe = frame.copy()`\n",
      "  extended_X_test[col1 + 'x' + col2] = X_test[col1] * X_test[col2]\n",
      "C:\\Users\\smhrd\\AppData\\Local\\Temp\\ipykernel_22492\\903382376.py:3: PerformanceWarning: DataFrame is highly fragmented.  This is usually the result of calling `frame.insert` many times, which has poor performance.  Consider joining all columns at once using pd.concat(axis=1) instead. To get a de-fragmented frame, use `newframe = frame.copy()`\n",
      "  extended_X_test[col1 + 'x' + col2] = X_test[col1] * X_test[col2]\n",
      "C:\\Users\\smhrd\\AppData\\Local\\Temp\\ipykernel_22492\\903382376.py:3: PerformanceWarning: DataFrame is highly fragmented.  This is usually the result of calling `frame.insert` many times, which has poor performance.  Consider joining all columns at once using pd.concat(axis=1) instead. To get a de-fragmented frame, use `newframe = frame.copy()`\n",
      "  extended_X_test[col1 + 'x' + col2] = X_test[col1] * X_test[col2]\n",
      "C:\\Users\\smhrd\\AppData\\Local\\Temp\\ipykernel_22492\\903382376.py:3: PerformanceWarning: DataFrame is highly fragmented.  This is usually the result of calling `frame.insert` many times, which has poor performance.  Consider joining all columns at once using pd.concat(axis=1) instead. To get a de-fragmented frame, use `newframe = frame.copy()`\n",
      "  extended_X_test[col1 + 'x' + col2] = X_test[col1] * X_test[col2]\n",
      "C:\\Users\\smhrd\\AppData\\Local\\Temp\\ipykernel_22492\\903382376.py:3: PerformanceWarning: DataFrame is highly fragmented.  This is usually the result of calling `frame.insert` many times, which has poor performance.  Consider joining all columns at once using pd.concat(axis=1) instead. To get a de-fragmented frame, use `newframe = frame.copy()`\n",
      "  extended_X_test[col1 + 'x' + col2] = X_test[col1] * X_test[col2]\n",
      "C:\\Users\\smhrd\\AppData\\Local\\Temp\\ipykernel_22492\\903382376.py:3: PerformanceWarning: DataFrame is highly fragmented.  This is usually the result of calling `frame.insert` many times, which has poor performance.  Consider joining all columns at once using pd.concat(axis=1) instead. To get a de-fragmented frame, use `newframe = frame.copy()`\n",
      "  extended_X_test[col1 + 'x' + col2] = X_test[col1] * X_test[col2]\n",
      "C:\\Users\\smhrd\\AppData\\Local\\Temp\\ipykernel_22492\\903382376.py:3: PerformanceWarning: DataFrame is highly fragmented.  This is usually the result of calling `frame.insert` many times, which has poor performance.  Consider joining all columns at once using pd.concat(axis=1) instead. To get a de-fragmented frame, use `newframe = frame.copy()`\n",
      "  extended_X_test[col1 + 'x' + col2] = X_test[col1] * X_test[col2]\n",
      "C:\\Users\\smhrd\\AppData\\Local\\Temp\\ipykernel_22492\\903382376.py:3: PerformanceWarning: DataFrame is highly fragmented.  This is usually the result of calling `frame.insert` many times, which has poor performance.  Consider joining all columns at once using pd.concat(axis=1) instead. To get a de-fragmented frame, use `newframe = frame.copy()`\n",
      "  extended_X_test[col1 + 'x' + col2] = X_test[col1] * X_test[col2]\n",
      "C:\\Users\\smhrd\\AppData\\Local\\Temp\\ipykernel_22492\\903382376.py:3: PerformanceWarning: DataFrame is highly fragmented.  This is usually the result of calling `frame.insert` many times, which has poor performance.  Consider joining all columns at once using pd.concat(axis=1) instead. To get a de-fragmented frame, use `newframe = frame.copy()`\n",
      "  extended_X_test[col1 + 'x' + col2] = X_test[col1] * X_test[col2]\n",
      "C:\\Users\\smhrd\\AppData\\Local\\Temp\\ipykernel_22492\\903382376.py:3: PerformanceWarning: DataFrame is highly fragmented.  This is usually the result of calling `frame.insert` many times, which has poor performance.  Consider joining all columns at once using pd.concat(axis=1) instead. To get a de-fragmented frame, use `newframe = frame.copy()`\n",
      "  extended_X_test[col1 + 'x' + col2] = X_test[col1] * X_test[col2]\n",
      "C:\\Users\\smhrd\\AppData\\Local\\Temp\\ipykernel_22492\\903382376.py:3: PerformanceWarning: DataFrame is highly fragmented.  This is usually the result of calling `frame.insert` many times, which has poor performance.  Consider joining all columns at once using pd.concat(axis=1) instead. To get a de-fragmented frame, use `newframe = frame.copy()`\n",
      "  extended_X_test[col1 + 'x' + col2] = X_test[col1] * X_test[col2]\n",
      "C:\\Users\\smhrd\\AppData\\Local\\Temp\\ipykernel_22492\\903382376.py:3: PerformanceWarning: DataFrame is highly fragmented.  This is usually the result of calling `frame.insert` many times, which has poor performance.  Consider joining all columns at once using pd.concat(axis=1) instead. To get a de-fragmented frame, use `newframe = frame.copy()`\n",
      "  extended_X_test[col1 + 'x' + col2] = X_test[col1] * X_test[col2]\n",
      "C:\\Users\\smhrd\\AppData\\Local\\Temp\\ipykernel_22492\\903382376.py:3: PerformanceWarning: DataFrame is highly fragmented.  This is usually the result of calling `frame.insert` many times, which has poor performance.  Consider joining all columns at once using pd.concat(axis=1) instead. To get a de-fragmented frame, use `newframe = frame.copy()`\n",
      "  extended_X_test[col1 + 'x' + col2] = X_test[col1] * X_test[col2]\n",
      "C:\\Users\\smhrd\\AppData\\Local\\Temp\\ipykernel_22492\\903382376.py:3: PerformanceWarning: DataFrame is highly fragmented.  This is usually the result of calling `frame.insert` many times, which has poor performance.  Consider joining all columns at once using pd.concat(axis=1) instead. To get a de-fragmented frame, use `newframe = frame.copy()`\n",
      "  extended_X_test[col1 + 'x' + col2] = X_test[col1] * X_test[col2]\n",
      "C:\\Users\\smhrd\\AppData\\Local\\Temp\\ipykernel_22492\\903382376.py:3: PerformanceWarning: DataFrame is highly fragmented.  This is usually the result of calling `frame.insert` many times, which has poor performance.  Consider joining all columns at once using pd.concat(axis=1) instead. To get a de-fragmented frame, use `newframe = frame.copy()`\n",
      "  extended_X_test[col1 + 'x' + col2] = X_test[col1] * X_test[col2]\n",
      "C:\\Users\\smhrd\\AppData\\Local\\Temp\\ipykernel_22492\\903382376.py:3: PerformanceWarning: DataFrame is highly fragmented.  This is usually the result of calling `frame.insert` many times, which has poor performance.  Consider joining all columns at once using pd.concat(axis=1) instead. To get a de-fragmented frame, use `newframe = frame.copy()`\n",
      "  extended_X_test[col1 + 'x' + col2] = X_test[col1] * X_test[col2]\n",
      "C:\\Users\\smhrd\\AppData\\Local\\Temp\\ipykernel_22492\\903382376.py:3: PerformanceWarning: DataFrame is highly fragmented.  This is usually the result of calling `frame.insert` many times, which has poor performance.  Consider joining all columns at once using pd.concat(axis=1) instead. To get a de-fragmented frame, use `newframe = frame.copy()`\n",
      "  extended_X_test[col1 + 'x' + col2] = X_test[col1] * X_test[col2]\n",
      "C:\\Users\\smhrd\\AppData\\Local\\Temp\\ipykernel_22492\\903382376.py:3: PerformanceWarning: DataFrame is highly fragmented.  This is usually the result of calling `frame.insert` many times, which has poor performance.  Consider joining all columns at once using pd.concat(axis=1) instead. To get a de-fragmented frame, use `newframe = frame.copy()`\n",
      "  extended_X_test[col1 + 'x' + col2] = X_test[col1] * X_test[col2]\n"
     ]
    }
   ],
   "source": [
    "for col1 in X_test.columns:\n",
    "    for col2 in X_test.columns:\n",
    "        extended_X_test[col1 + 'x' + col2] = X_test[col1] * X_test[col2]"
   ]
  },
  {
   "cell_type": "code",
   "execution_count": 114,
   "id": "80f424a3",
   "metadata": {},
   "outputs": [
    {
     "data": {
      "text/plain": [
       "(152, 182)"
      ]
     },
     "execution_count": 114,
     "metadata": {},
     "output_type": "execute_result"
    }
   ],
   "source": [
    "extended_X_test.shape"
   ]
  },
  {
   "cell_type": "code",
   "execution_count": 115,
   "id": "d10a9de2",
   "metadata": {},
   "outputs": [
    {
     "data": {
      "text/plain": [
       "array([21.54075973, 21.65598838, 18.93701443, 22.620061  , 26.76646888,\n",
       "       26.55462842, 22.63638729, 22.06940292, 24.67416599, 43.50750174,\n",
       "       26.6385485 , 18.10686431, 38.66749604, 22.45978608, 16.93498024,\n",
       "       18.85242493, 17.06753978, 13.39812783, 14.98165442, 16.75081853,\n",
       "       11.95559272, 32.67078836, 18.76219179, 11.60616462, 20.1824785 ,\n",
       "       23.46826199, 18.13139666, 16.31497888, 16.48350668, 11.51216112,\n",
       "       -3.10893269, 35.20194282, 21.60207786, 21.56499257, 24.91761597,\n",
       "       36.6260765 , 19.17762379, 29.37106825, 13.43797673, 22.43089691,\n",
       "       38.43281415, 42.10753162, 26.29233709, 21.09820963,  1.0786639 ,\n",
       "       14.63498104, 26.85055182, 47.40288511, 22.8806738 , 26.63042252,\n",
       "        7.32871912,  1.94161714, 21.93719153, 24.60976457, 10.79733887,\n",
       "       23.55424919, 50.98106844, 25.79837315, 14.60179771, 20.33938247,\n",
       "       11.18545803, 22.01378325, 17.14259529, 34.02696515, 26.95097562,\n",
       "       16.73692928, 10.61251813, 48.08242022, 22.99625399, 23.09071833,\n",
       "       26.55977166, 27.17418622, 22.11426641, 21.22164365,  9.75526674,\n",
       "       21.07777761, 23.11867512, 16.16558675, 11.45045531, 29.62184432,\n",
       "       21.97565681, 17.86792485, 27.58433099, 31.38375038, 34.22059595,\n",
       "       21.83585911, 26.50077042, 12.07995231, 36.24906291, 15.52473963,\n",
       "       25.69282928,  9.35760139, 24.17049425, 14.17856751, 27.33840601,\n",
       "       15.56976984, 24.99085593, 18.15017614, 10.27400328, 18.2300128 ,\n",
       "       15.76938378, 32.81956591, 22.66115269, 16.65812663, 26.41807699,\n",
       "       17.1984029 , 17.91039234, 20.52618058,  2.31204543, 20.18984091,\n",
       "       20.68505122, 15.13904758, 17.66912174, 24.10509761, 18.09538077,\n",
       "       22.26860338, 20.13423193, 11.61683832, 20.60277416, 20.64880665,\n",
       "       17.58016872, 20.62764246, 25.50665806, 19.88687245, 25.32739096,\n",
       "       33.86925605, 10.07277224, 19.64352671, 21.77169346, 23.76156532,\n",
       "       26.79694873, 27.65989437, 32.37320441, 25.33459224, 27.18639042,\n",
       "       27.28992674, 32.75369257, 16.5875421 , 15.35679306, 16.48260147,\n",
       "       12.04574105, 22.94242692, 12.79212779, 20.4933636 , 59.74786913,\n",
       "       25.56608282, 22.35815942, 14.1005949 , 30.61553015, 21.03275745,\n",
       "       11.02782646,  8.47480725])"
      ]
     },
     "execution_count": 115,
     "metadata": {},
     "output_type": "execute_result"
    }
   ],
   "source": [
    "linear_model2.predict(extended_X_test)"
   ]
  },
  {
   "cell_type": "code",
   "execution_count": 116,
   "id": "ed18479e",
   "metadata": {},
   "outputs": [
    {
     "data": {
      "text/plain": [
       "0.7462113940202226"
      ]
     },
     "execution_count": 116,
     "metadata": {},
     "output_type": "execute_result"
    }
   ],
   "source": [
    "linear_model2.score(extended_X_test, y_test)"
   ]
  },
  {
   "cell_type": "markdown",
   "id": "599faa87",
   "metadata": {},
   "source": [
    "### Ridge"
   ]
  },
  {
   "cell_type": "code",
   "execution_count": 117,
   "id": "e4f99632",
   "metadata": {},
   "outputs": [],
   "source": [
    "from sklearn.linear_model import Ridge"
   ]
  },
  {
   "cell_type": "code",
   "execution_count": 118,
   "id": "4183ec2e",
   "metadata": {},
   "outputs": [],
   "source": [
    "ridge_model = Ridge()"
   ]
  },
  {
   "cell_type": "code",
   "execution_count": 121,
   "id": "70917239",
   "metadata": {},
   "outputs": [
    {
     "data": {
      "text/plain": [
       "Ridge()"
      ]
     },
     "execution_count": 121,
     "metadata": {},
     "output_type": "execute_result"
    }
   ],
   "source": [
    "ridge_model.fit(extended_X_train, y_train)"
   ]
  },
  {
   "cell_type": "code",
   "execution_count": 122,
   "id": "80a83d4b",
   "metadata": {},
   "outputs": [
    {
     "data": {
      "text/plain": [
       "0.9357354777493707"
      ]
     },
     "execution_count": 122,
     "metadata": {},
     "output_type": "execute_result"
    }
   ],
   "source": [
    "ridge_model.score(extended_X_train, y_train)"
   ]
  },
  {
   "cell_type": "code",
   "execution_count": 123,
   "id": "14d5b5bd",
   "metadata": {},
   "outputs": [
    {
     "data": {
      "text/plain": [
       "0.7645239260356922"
      ]
     },
     "execution_count": 123,
     "metadata": {},
     "output_type": "execute_result"
    }
   ],
   "source": [
    "ridge_model.score(extended_X_test, y_test)"
   ]
  },
  {
   "cell_type": "markdown",
   "id": "d8629395",
   "metadata": {},
   "source": [
    "### Lasso"
   ]
  },
  {
   "cell_type": "code",
   "execution_count": 124,
   "id": "53e2d0be",
   "metadata": {},
   "outputs": [],
   "source": [
    "from sklearn.linear_model import Lasso"
   ]
  },
  {
   "cell_type": "code",
   "execution_count": 125,
   "id": "b5f09709",
   "metadata": {},
   "outputs": [],
   "source": [
    "lasso_model = Lasso()"
   ]
  },
  {
   "cell_type": "code",
   "execution_count": 126,
   "id": "a8cf641f",
   "metadata": {},
   "outputs": [
    {
     "name": "stderr",
     "output_type": "stream",
     "text": [
      "C:\\Users\\smhrd\\anaconda3\\lib\\site-packages\\sklearn\\linear_model\\_coordinate_descent.py:647: ConvergenceWarning: Objective did not converge. You might want to increase the number of iterations, check the scale of the features or consider increasing regularisation. Duality gap: 1.909e+03, tolerance: 3.255e+00\n",
      "  model = cd_fast.enet_coordinate_descent(\n"
     ]
    },
    {
     "data": {
      "text/plain": [
       "Lasso()"
      ]
     },
     "execution_count": 126,
     "metadata": {},
     "output_type": "execute_result"
    }
   ],
   "source": [
    "lasso_model.fit(extended_X_train, y_train)"
   ]
  },
  {
   "cell_type": "code",
   "execution_count": 127,
   "id": "02c5dd96",
   "metadata": {},
   "outputs": [
    {
     "data": {
      "text/plain": [
       "0.8981602663768496"
      ]
     },
     "execution_count": 127,
     "metadata": {},
     "output_type": "execute_result"
    }
   ],
   "source": [
    "lasso_model.score(extended_X_train, y_train)"
   ]
  },
  {
   "cell_type": "code",
   "execution_count": 128,
   "id": "5b7593b0",
   "metadata": {},
   "outputs": [
    {
     "data": {
      "text/plain": [
       "0.782975414903348"
      ]
     },
     "execution_count": 128,
     "metadata": {},
     "output_type": "execute_result"
    }
   ],
   "source": [
    "lasso_model.score(extended_X_test, y_test)"
   ]
  },
  {
   "cell_type": "markdown",
   "id": "4365b1a0",
   "metadata": {},
   "source": [
    "### Ridge vs Lasso\n",
    "- 제약조건에 따른 두 모델의 가중치 확인\n",
    "- Lasso : L1 규제 사용, 특정 계수가 0이 될 수 있다 => 특성 선택이 이루어짐\n",
    "- Ridge : L2 규제 사용, 규제가 골고루 적용 => 0에 가까워짐(0은 아님!!)"
   ]
  },
  {
   "cell_type": "code",
   "execution_count": 129,
   "id": "5107dadd",
   "metadata": {},
   "outputs": [],
   "source": [
    "alpha_list = [0.001, 0.01, 0.1, 10, 100, 1000] \n",
    "# 0을 작성안하는 이유 => 0을 준다는 거는 정규화항을 사용안하는 거랑 같다 \n",
    "\n",
    "ridge_coef_list = []\n",
    "lasso_coef_list = []\n",
    "\n",
    "for a in alpha_list:\n",
    "    r_model = Ridge(alpha = a)  # 제약조건에 따른 모델 생성\n",
    "    l_model = Lasso(alpha = a)\n",
    "    \n",
    "    r_model.fit(X_train, y_train)\n",
    "    l_model.fit(X_train, y_train)\n",
    "    \n",
    "    ridge_coef_list.append(r_model.coef_)\n",
    "    lasso_coef_list.append(l_model.coef_)"
   ]
  },
  {
   "cell_type": "code",
   "execution_count": 132,
   "id": "104b954c",
   "metadata": {
    "collapsed": true
   },
   "outputs": [
    {
     "data": {
      "text/html": [
       "<div>\n",
       "<style scoped>\n",
       "    .dataframe tbody tr th:only-of-type {\n",
       "        vertical-align: middle;\n",
       "    }\n",
       "\n",
       "    .dataframe tbody tr th {\n",
       "        vertical-align: top;\n",
       "    }\n",
       "\n",
       "    .dataframe thead th {\n",
       "        text-align: right;\n",
       "    }\n",
       "</style>\n",
       "<table border=\"1\" class=\"dataframe\">\n",
       "  <thead>\n",
       "    <tr style=\"text-align: right;\">\n",
       "      <th></th>\n",
       "      <th>0.001</th>\n",
       "      <th>0.010</th>\n",
       "      <th>0.100</th>\n",
       "      <th>10.000</th>\n",
       "      <th>100.000</th>\n",
       "      <th>1000.000</th>\n",
       "    </tr>\n",
       "  </thead>\n",
       "  <tbody>\n",
       "    <tr>\n",
       "      <th>0</th>\n",
       "      <td>-0.095204</td>\n",
       "      <td>-0.095134</td>\n",
       "      <td>-0.094502</td>\n",
       "      <td>-0.089675</td>\n",
       "      <td>-0.089721</td>\n",
       "      <td>-0.075777</td>\n",
       "    </tr>\n",
       "    <tr>\n",
       "      <th>1</th>\n",
       "      <td>0.031331</td>\n",
       "      <td>0.031345</td>\n",
       "      <td>0.031481</td>\n",
       "      <td>0.034301</td>\n",
       "      <td>0.039922</td>\n",
       "      <td>0.046032</td>\n",
       "    </tr>\n",
       "    <tr>\n",
       "      <th>2</th>\n",
       "      <td>-0.024968</td>\n",
       "      <td>-0.025516</td>\n",
       "      <td>-0.030512</td>\n",
       "      <td>-0.082611</td>\n",
       "      <td>-0.106224</td>\n",
       "      <td>-0.090123</td>\n",
       "    </tr>\n",
       "    <tr>\n",
       "      <th>3</th>\n",
       "      <td>3.544056</td>\n",
       "      <td>3.540899</td>\n",
       "      <td>3.510778</td>\n",
       "      <td>2.222105</td>\n",
       "      <td>0.541889</td>\n",
       "      <td>0.074569</td>\n",
       "    </tr>\n",
       "    <tr>\n",
       "      <th>4</th>\n",
       "      <td>-15.441404</td>\n",
       "      <td>-15.308264</td>\n",
       "      <td>-14.093068</td>\n",
       "      <td>-1.447841</td>\n",
       "      <td>-0.152623</td>\n",
       "      <td>-0.006716</td>\n",
       "    </tr>\n",
       "    <tr>\n",
       "      <th>5</th>\n",
       "      <td>4.682522</td>\n",
       "      <td>4.683631</td>\n",
       "      <td>4.693317</td>\n",
       "      <td>4.354064</td>\n",
       "      <td>2.336472</td>\n",
       "      <td>0.497601</td>\n",
       "    </tr>\n",
       "    <tr>\n",
       "      <th>6</th>\n",
       "      <td>-0.017079</td>\n",
       "      <td>-0.017190</td>\n",
       "      <td>-0.018197</td>\n",
       "      <td>-0.024485</td>\n",
       "      <td>-0.005306</td>\n",
       "      <td>0.026782</td>\n",
       "    </tr>\n",
       "    <tr>\n",
       "      <th>7</th>\n",
       "      <td>-1.509809</td>\n",
       "      <td>-1.507613</td>\n",
       "      <td>-1.487577</td>\n",
       "      <td>-1.278218</td>\n",
       "      <td>-1.144016</td>\n",
       "      <td>-0.502385</td>\n",
       "    </tr>\n",
       "    <tr>\n",
       "      <th>8</th>\n",
       "      <td>0.273301</td>\n",
       "      <td>0.272927</td>\n",
       "      <td>0.269538</td>\n",
       "      <td>0.254655</td>\n",
       "      <td>0.315040</td>\n",
       "      <td>0.300832</td>\n",
       "    </tr>\n",
       "    <tr>\n",
       "      <th>9</th>\n",
       "      <td>-0.011398</td>\n",
       "      <td>-0.011405</td>\n",
       "      <td>-0.011466</td>\n",
       "      <td>-0.012985</td>\n",
       "      <td>-0.015455</td>\n",
       "      <td>-0.016389</td>\n",
       "    </tr>\n",
       "    <tr>\n",
       "      <th>10</th>\n",
       "      <td>-0.982652</td>\n",
       "      <td>-0.981499</td>\n",
       "      <td>-0.971009</td>\n",
       "      <td>-0.895205</td>\n",
       "      <td>-0.962680</td>\n",
       "      <td>-0.662219</td>\n",
       "    </tr>\n",
       "    <tr>\n",
       "      <th>11</th>\n",
       "      <td>0.011440</td>\n",
       "      <td>0.011443</td>\n",
       "      <td>0.011479</td>\n",
       "      <td>0.011578</td>\n",
       "      <td>0.009989</td>\n",
       "      <td>0.008306</td>\n",
       "    </tr>\n",
       "    <tr>\n",
       "      <th>12</th>\n",
       "      <td>-0.442207</td>\n",
       "      <td>-0.442324</td>\n",
       "      <td>-0.443431</td>\n",
       "      <td>-0.488611</td>\n",
       "      <td>-0.636907</td>\n",
       "      <td>-0.736682</td>\n",
       "    </tr>\n",
       "  </tbody>\n",
       "</table>\n",
       "</div>"
      ],
      "text/plain": [
       "     0.001      0.010      0.100     10.000    100.000   1000.000\n",
       "0   -0.095204  -0.095134  -0.094502 -0.089675 -0.089721 -0.075777\n",
       "1    0.031331   0.031345   0.031481  0.034301  0.039922  0.046032\n",
       "2   -0.024968  -0.025516  -0.030512 -0.082611 -0.106224 -0.090123\n",
       "3    3.544056   3.540899   3.510778  2.222105  0.541889  0.074569\n",
       "4  -15.441404 -15.308264 -14.093068 -1.447841 -0.152623 -0.006716\n",
       "5    4.682522   4.683631   4.693317  4.354064  2.336472  0.497601\n",
       "6   -0.017079  -0.017190  -0.018197 -0.024485 -0.005306  0.026782\n",
       "7   -1.509809  -1.507613  -1.487577 -1.278218 -1.144016 -0.502385\n",
       "8    0.273301   0.272927   0.269538  0.254655  0.315040  0.300832\n",
       "9   -0.011398  -0.011405  -0.011466 -0.012985 -0.015455 -0.016389\n",
       "10  -0.982652  -0.981499  -0.971009 -0.895205 -0.962680 -0.662219\n",
       "11   0.011440   0.011443   0.011479  0.011578  0.009989  0.008306\n",
       "12  -0.442207  -0.442324  -0.443431 -0.488611 -0.636907 -0.736682"
      ]
     },
     "execution_count": 132,
     "metadata": {},
     "output_type": "execute_result"
    }
   ],
   "source": [
    "r_df = pd.DataFrame(np.array(ridge_coef_list).T,\n",
    "            columns=alpha_list)\n",
    "r_df"
   ]
  },
  {
   "cell_type": "code",
   "execution_count": 133,
   "id": "e75e3d75",
   "metadata": {
    "collapsed": true
   },
   "outputs": [
    {
     "data": {
      "text/html": [
       "<div>\n",
       "<style scoped>\n",
       "    .dataframe tbody tr th:only-of-type {\n",
       "        vertical-align: middle;\n",
       "    }\n",
       "\n",
       "    .dataframe tbody tr th {\n",
       "        vertical-align: top;\n",
       "    }\n",
       "\n",
       "    .dataframe thead th {\n",
       "        text-align: right;\n",
       "    }\n",
       "</style>\n",
       "<table border=\"1\" class=\"dataframe\">\n",
       "  <thead>\n",
       "    <tr style=\"text-align: right;\">\n",
       "      <th></th>\n",
       "      <th>0.001</th>\n",
       "      <th>0.010</th>\n",
       "      <th>0.100</th>\n",
       "      <th>10.000</th>\n",
       "      <th>100.000</th>\n",
       "      <th>1000.000</th>\n",
       "    </tr>\n",
       "  </thead>\n",
       "  <tbody>\n",
       "    <tr>\n",
       "      <th>0</th>\n",
       "      <td>-0.095015</td>\n",
       "      <td>-0.093247</td>\n",
       "      <td>-0.086204</td>\n",
       "      <td>-0.000000</td>\n",
       "      <td>-0.000000</td>\n",
       "      <td>-0.0</td>\n",
       "    </tr>\n",
       "    <tr>\n",
       "      <th>1</th>\n",
       "      <td>0.031366</td>\n",
       "      <td>0.031698</td>\n",
       "      <td>0.033085</td>\n",
       "      <td>0.034529</td>\n",
       "      <td>0.000000</td>\n",
       "      <td>0.0</td>\n",
       "    </tr>\n",
       "    <tr>\n",
       "      <th>2</th>\n",
       "      <td>-0.026160</td>\n",
       "      <td>-0.037435</td>\n",
       "      <td>-0.069043</td>\n",
       "      <td>-0.000000</td>\n",
       "      <td>-0.000000</td>\n",
       "      <td>-0.0</td>\n",
       "    </tr>\n",
       "    <tr>\n",
       "      <th>3</th>\n",
       "      <td>3.522419</td>\n",
       "      <td>3.324499</td>\n",
       "      <td>1.564325</td>\n",
       "      <td>0.000000</td>\n",
       "      <td>0.000000</td>\n",
       "      <td>0.0</td>\n",
       "    </tr>\n",
       "    <tr>\n",
       "      <th>4</th>\n",
       "      <td>-15.106568</td>\n",
       "      <td>-11.958735</td>\n",
       "      <td>-0.000000</td>\n",
       "      <td>0.000000</td>\n",
       "      <td>-0.000000</td>\n",
       "      <td>-0.0</td>\n",
       "    </tr>\n",
       "    <tr>\n",
       "      <th>5</th>\n",
       "      <td>4.683206</td>\n",
       "      <td>4.690477</td>\n",
       "      <td>4.529055</td>\n",
       "      <td>0.000000</td>\n",
       "      <td>0.000000</td>\n",
       "      <td>0.0</td>\n",
       "    </tr>\n",
       "    <tr>\n",
       "      <th>6</th>\n",
       "      <td>-0.017313</td>\n",
       "      <td>-0.019529</td>\n",
       "      <td>-0.024682</td>\n",
       "      <td>0.000000</td>\n",
       "      <td>-0.000000</td>\n",
       "      <td>-0.0</td>\n",
       "    </tr>\n",
       "    <tr>\n",
       "      <th>7</th>\n",
       "      <td>-1.503655</td>\n",
       "      <td>-1.446061</td>\n",
       "      <td>-1.191628</td>\n",
       "      <td>-0.000000</td>\n",
       "      <td>0.000000</td>\n",
       "      <td>0.0</td>\n",
       "    </tr>\n",
       "    <tr>\n",
       "      <th>8</th>\n",
       "      <td>0.272464</td>\n",
       "      <td>0.264561</td>\n",
       "      <td>0.244580</td>\n",
       "      <td>0.000000</td>\n",
       "      <td>-0.000000</td>\n",
       "      <td>-0.0</td>\n",
       "    </tr>\n",
       "    <tr>\n",
       "      <th>9</th>\n",
       "      <td>-0.011424</td>\n",
       "      <td>-0.011657</td>\n",
       "      <td>-0.013230</td>\n",
       "      <td>-0.010521</td>\n",
       "      <td>-0.022353</td>\n",
       "      <td>-0.0</td>\n",
       "    </tr>\n",
       "    <tr>\n",
       "      <th>10</th>\n",
       "      <td>-0.979871</td>\n",
       "      <td>-0.953681</td>\n",
       "      <td>-0.867689</td>\n",
       "      <td>-0.000000</td>\n",
       "      <td>-0.000000</td>\n",
       "      <td>-0.0</td>\n",
       "    </tr>\n",
       "    <tr>\n",
       "      <th>11</th>\n",
       "      <td>0.011449</td>\n",
       "      <td>0.011539</td>\n",
       "      <td>0.011821</td>\n",
       "      <td>0.009341</td>\n",
       "      <td>0.008396</td>\n",
       "      <td>0.0</td>\n",
       "    </tr>\n",
       "    <tr>\n",
       "      <th>12</th>\n",
       "      <td>-0.442697</td>\n",
       "      <td>-0.447230</td>\n",
       "      <td>-0.481085</td>\n",
       "      <td>-0.555092</td>\n",
       "      <td>-0.000000</td>\n",
       "      <td>-0.0</td>\n",
       "    </tr>\n",
       "  </tbody>\n",
       "</table>\n",
       "</div>"
      ],
      "text/plain": [
       "     0.001      0.010     0.100     10.000    100.000   1000.000\n",
       "0   -0.095015  -0.093247 -0.086204 -0.000000 -0.000000      -0.0\n",
       "1    0.031366   0.031698  0.033085  0.034529  0.000000       0.0\n",
       "2   -0.026160  -0.037435 -0.069043 -0.000000 -0.000000      -0.0\n",
       "3    3.522419   3.324499  1.564325  0.000000  0.000000       0.0\n",
       "4  -15.106568 -11.958735 -0.000000  0.000000 -0.000000      -0.0\n",
       "5    4.683206   4.690477  4.529055  0.000000  0.000000       0.0\n",
       "6   -0.017313  -0.019529 -0.024682  0.000000 -0.000000      -0.0\n",
       "7   -1.503655  -1.446061 -1.191628 -0.000000  0.000000       0.0\n",
       "8    0.272464   0.264561  0.244580  0.000000 -0.000000      -0.0\n",
       "9   -0.011424  -0.011657 -0.013230 -0.010521 -0.022353      -0.0\n",
       "10  -0.979871  -0.953681 -0.867689 -0.000000 -0.000000      -0.0\n",
       "11   0.011449   0.011539  0.011821  0.009341  0.008396       0.0\n",
       "12  -0.442697  -0.447230 -0.481085 -0.555092 -0.000000      -0.0"
      ]
     },
     "execution_count": 133,
     "metadata": {},
     "output_type": "execute_result"
    }
   ],
   "source": [
    "l_df = pd.DataFrame(np.array(lasso_coef_list).T,\n",
    "            columns=alpha_list)\n",
    "l_df\n",
    "# 1000일때는 0.0이다 => 제약조건이 너무 걸려있어서 0이 나왔음"
   ]
  },
  {
   "cell_type": "code",
   "execution_count": 134,
   "id": "23dbb734",
   "metadata": {
    "collapsed": true
   },
   "outputs": [
    {
     "name": "stderr",
     "output_type": "stream",
     "text": [
      "C:\\Users\\smhrd\\anaconda3\\lib\\site-packages\\sklearn\\linear_model\\_ridge.py:157: LinAlgWarning: Ill-conditioned matrix (rcond=4.88926e-17): result may not be accurate.\n",
      "  return linalg.solve(A, Xy, sym_pos=True, overwrite_a=True).T\n",
      "C:\\Users\\smhrd\\anaconda3\\lib\\site-packages\\sklearn\\linear_model\\_ridge.py:157: LinAlgWarning: Ill-conditioned matrix (rcond=5.01379e-17): result may not be accurate.\n",
      "  return linalg.solve(A, Xy, sym_pos=True, overwrite_a=True).T\n",
      "C:\\Users\\smhrd\\anaconda3\\lib\\site-packages\\sklearn\\linear_model\\_ridge.py:157: LinAlgWarning: Ill-conditioned matrix (rcond=5.5272e-17): result may not be accurate.\n",
      "  return linalg.solve(A, Xy, sym_pos=True, overwrite_a=True).T\n",
      "C:\\Users\\smhrd\\anaconda3\\lib\\site-packages\\sklearn\\linear_model\\_ridge.py:157: LinAlgWarning: Ill-conditioned matrix (rcond=5.03053e-17): result may not be accurate.\n",
      "  return linalg.solve(A, Xy, sym_pos=True, overwrite_a=True).T\n",
      "C:\\Users\\smhrd\\anaconda3\\lib\\site-packages\\sklearn\\linear_model\\_ridge.py:157: LinAlgWarning: Ill-conditioned matrix (rcond=4.31274e-17): result may not be accurate.\n",
      "  return linalg.solve(A, Xy, sym_pos=True, overwrite_a=True).T\n"
     ]
    }
   ],
   "source": [
    "# 어느정도 제약조건을 주어야 좋을까?\n",
    "alpha_list = [0.001, 0.01, 0.1, 10, 100, 1000] \n",
    "scoce_list = []\n",
    "\n",
    "for a in alpha_list:\n",
    "    ridge_model = Ridge(alpha = a)\n",
    "    ridge_result = cross_val_score(ridge_model, extended_X_train, y_train, cv=5)\n",
    "    scoce_list.append(ridge_result.mean())"
   ]
  },
  {
   "cell_type": "code",
   "execution_count": 137,
   "id": "766fba6c",
   "metadata": {},
   "outputs": [
    {
     "data": {
      "image/png": "[encoded data removed]",
      "text/plain": [
       "<Figure size 3240x360 with 1 Axes>"
      ]
     },
     "metadata": {
      "needs_background": "light"
     },
     "output_type": "display_data"
    }
   ],
   "source": [
    "plt.figure(figsize=(45,5))\n",
    "plt.plot(alpha_list, scoce_list)\n",
    "plt.xticks(alpha_list)\n",
    "plt.grid()\n",
    "plt.xlabel('alpha')\n",
    "plt.ylabel('score')\n",
    "plt.show()"
   ]
  },
  {
   "cell_type": "markdown",
   "id": "aee1fec6",
   "metadata": {},
   "source": [
    "### 결정 트리 회귀 모형"
   ]
  },
  {
   "cell_type": "code",
   "execution_count": 138,
   "id": "27b1ce86",
   "metadata": {},
   "outputs": [],
   "source": [
    "from sklearn.tree import DecisionTreeRegressor # 회귀"
   ]
  },
  {
   "cell_type": "code",
   "execution_count": 139,
   "id": "07ea0497",
   "metadata": {},
   "outputs": [],
   "source": [
    "tree_reg = DecisionTreeRegressor(max_depth=5, random_state=11)"
   ]
  },
  {
   "cell_type": "code",
   "execution_count": 140,
   "id": "82fe7579",
   "metadata": {},
   "outputs": [
    {
     "data": {
      "text/plain": [
       "DecisionTreeRegressor(max_depth=5, random_state=11)"
      ]
     },
     "execution_count": 140,
     "metadata": {},
     "output_type": "execute_result"
    }
   ],
   "source": [
    "tree_reg.fit(X_train, y_train)"
   ]
  },
  {
   "cell_type": "code",
   "execution_count": 141,
   "id": "c573d238",
   "metadata": {},
   "outputs": [],
   "source": [
    "from sklearn.model_selection import GridSearchCV"
   ]
  },
  {
   "cell_type": "code",
   "execution_count": 142,
   "id": "6bf54782",
   "metadata": {},
   "outputs": [],
   "source": [
    "tree_reg2 = DecisionTreeRegressor()"
   ]
  },
  {
   "cell_type": "code",
   "execution_count": 143,
   "id": "6d77bb65",
   "metadata": {},
   "outputs": [
    {
     "data": {
      "text/plain": [
       "GridSearchCV(cv=5, estimator=DecisionTreeRegressor(),\n",
       "             param_grid={'max_depth': [3, 5, 7], 'max_leaf_nodes': [4, 6, 8],\n",
       "                         'min_samples_leaf': [3, 5, 7],\n",
       "                         'min_samples_split': [4, 6, 8]})"
      ]
     },
     "execution_count": 143,
     "metadata": {},
     "output_type": "execute_result"
    }
   ],
   "source": [
    "params = {'max_depth' : [3,5,7],\n",
    "         'max_leaf_nodes' : [4,6,8],\n",
    "         'min_samples_split' : [4,6,8],\n",
    "         'min_samples_leaf' : [3,5,7]}\n",
    "\n",
    "grid = GridSearchCV(tree_reg2, params, cv=5)\n",
    "\n",
    "grid.fit(X_train, y_train)"
   ]
  },
  {
   "cell_type": "code",
   "execution_count": 145,
   "id": "e30fe8bc",
   "metadata": {},
   "outputs": [
    {
     "data": {
      "text/plain": [
       "{'max_depth': 7,\n",
       " 'max_leaf_nodes': 8,\n",
       " 'min_samples_leaf': 3,\n",
       " 'min_samples_split': 8}"
      ]
     },
     "execution_count": 145,
     "metadata": {},
     "output_type": "execute_result"
    }
   ],
   "source": [
    "grid.best_params_ # 가장 좋은 성능의 조합을 보여준다"
   ]
  },
  {
   "cell_type": "code",
   "execution_count": 146,
   "id": "7b413182",
   "metadata": {},
   "outputs": [
    {
     "name": "stdout",
     "output_type": "stream",
     "text": [
      "{'max_depth': 7, 'max_leaf_nodes': 8, 'min_samples_leaf': 3, 'min_samples_split': 8}\n",
      "0.7759318178658656\n"
     ]
    }
   ],
   "source": [
    "print(grid.best_params_)\n",
    "print(grid.best_score_)"
   ]
  },
  {
   "cell_type": "code",
   "execution_count": 147,
   "id": "9e9a56fc",
   "metadata": {},
   "outputs": [],
   "source": [
    "# gridSearch를 통해 가장 좋은 성능을 보이는 모델 제공\n",
    "best_model = grid.best_estimator_"
   ]
  },
  {
   "cell_type": "code",
   "execution_count": 149,
   "id": "ecb31d68",
   "metadata": {},
   "outputs": [],
   "source": [
    "pred_test = best_model.predict(X_test) # 예측한 값"
   ]
  },
  {
   "cell_type": "code",
   "execution_count": 150,
   "id": "0ccc33e7",
   "metadata": {},
   "outputs": [],
   "source": [
    "pred_train = best_model.predict(X_train)"
   ]
  },
  {
   "cell_type": "code",
   "execution_count": 151,
   "id": "e3f49ede",
   "metadata": {},
   "outputs": [],
   "source": [
    "from sklearn.metrics import mean_squared_error"
   ]
  },
  {
   "cell_type": "code",
   "execution_count": 153,
   "id": "ec695527",
   "metadata": {},
   "outputs": [
    {
     "name": "stdout",
     "output_type": "stream",
     "text": [
      "학습 데이터에 대한 평가 결과 13.713538411503624\n",
      "학습 데이터에 대한 평가 결과 18.74011131868334\n"
     ]
    }
   ],
   "source": [
    "# 성능 평가하기\n",
    "print(\"학습 데이터에 대한 평가 결과\", mean_squared_error(pred_train, y_train))\n",
    "print(\"학습 데이터에 대한 평가 결과\", mean_squared_error(pred_test, y_test))"
   ]
  },
  {
   "cell_type": "markdown",
   "id": "0f18bc0f",
   "metadata": {},
   "source": [
    "### 랜덤 포레스트 회귀 모형"
   ]
  },
  {
   "cell_type": "code",
   "execution_count": 154,
   "id": "a7ff23a9",
   "metadata": {},
   "outputs": [],
   "source": [
    "from sklearn.ensemble import RandomForestRegressor"
   ]
  },
  {
   "cell_type": "code",
   "execution_count": 155,
   "id": "4fd8036b",
   "metadata": {},
   "outputs": [],
   "source": [
    "rf_reg = RandomForestRegressor()"
   ]
  },
  {
   "cell_type": "code",
   "execution_count": 156,
   "id": "551b9aa6",
   "metadata": {},
   "outputs": [
    {
     "data": {
      "text/plain": [
       "RandomForestRegressor()"
      ]
     },
     "execution_count": 156,
     "metadata": {},
     "output_type": "execute_result"
    }
   ],
   "source": [
    "rf_reg.fit(X_train, y_train)"
   ]
  },
  {
   "cell_type": "code",
   "execution_count": null,
   "id": "f6261203",
   "metadata": {},
   "outputs": [],
   "source": []
  }
 ],
 "metadata": {
  "kernelspec": {
   "display_name": "Python 3 (ipykernel)",
   "language": "python",
   "name": "python3"
  },
  "language_info": {
   "codemirror_mode": {
    "name": "ipython",
    "version": 3
   },
   "file_extension": ".py",
   "mimetype": "text/x-python",
   "name": "python",
   "nbconvert_exporter": "python",
   "pygments_lexer": "ipython3",
   "version": "3.9.12"
  }
 },
 "nbformat": 4,
 "nbformat_minor": 5
}
